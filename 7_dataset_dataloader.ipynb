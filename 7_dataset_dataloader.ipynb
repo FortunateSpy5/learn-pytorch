{
 "cells": [
  {
   "cell_type": "markdown",
   "metadata": {},
   "source": [
    "# Dataset & Dataloader"
   ]
  },
  {
   "cell_type": "markdown",
   "metadata": {},
   "source": [
    "* epoch: Forward & backward pass of ALL training samples\n",
    "* batch_size: no. of training samples in one forward & backward pass\n",
    "* number of iterations: no. of passes, each pass using batch_size number of samples  \n",
    "Example: 100 samples, batch_size=20 -> 100 / 20 = 5 iterations for 1 epoch"
   ]
  },
  {
   "cell_type": "code",
   "execution_count": 1,
   "metadata": {},
   "outputs": [],
   "source": [
    "import torch\n",
    "import torchvision\n",
    "from torch.utils.data import Dataset, DataLoader\n",
    "import numpy as np\n",
    "import math"
   ]
  },
  {
   "cell_type": "markdown",
   "metadata": {},
   "source": [
    "## Custom Dataset Class"
   ]
  },
  {
   "cell_type": "code",
   "execution_count": 2,
   "metadata": {},
   "outputs": [],
   "source": [
    "class WineDataset(Dataset):\n",
    "    def __init__(self):\n",
    "        # data loading\n",
    "        xy = np.loadtxt('data/wine.csv', delimiter=',', dtype=np.float32, skiprows=1)\n",
    "        self.X = torch.from_numpy(xy[:, 1:])\n",
    "        self.y = torch.from_numpy(xy[:, [0]])\n",
    "        self.n_sample = xy.shape[0]\n",
    "        \n",
    "    \n",
    "    def __getitem__(self, index):\n",
    "        return self.X[index], self.y[index]\n",
    "    \n",
    "    def __len__(self):\n",
    "        return self.n_sample"
   ]
  },
  {
   "cell_type": "code",
   "execution_count": 3,
   "metadata": {},
   "outputs": [],
   "source": [
    "dataset = WineDataset()"
   ]
  },
  {
   "cell_type": "code",
   "execution_count": 4,
   "metadata": {},
   "outputs": [
    {
     "name": "stdout",
     "output_type": "stream",
     "text": [
      "tensor([1.4230e+01, 1.7100e+00, 2.4300e+00, 1.5600e+01, 1.2700e+02, 2.8000e+00,\n",
      "        3.0600e+00, 2.8000e-01, 2.2900e+00, 5.6400e+00, 1.0400e+00, 3.9200e+00,\n",
      "        1.0650e+03]) tensor([1.])\n"
     ]
    }
   ],
   "source": [
    "first_data = dataset[0]\n",
    "features, labels = first_data\n",
    "print(features, labels)"
   ]
  },
  {
   "cell_type": "markdown",
   "metadata": {},
   "source": [
    "## Dataloader"
   ]
  },
  {
   "cell_type": "code",
   "execution_count": 5,
   "metadata": {},
   "outputs": [],
   "source": [
    "dataloader = DataLoader(dataset=dataset, batch_size=4, shuffle=True, num_workers=0)\n",
    "# batch_size: number of samples per gradient update\n",
    "# shuffle: whether to shuffle the samples\n",
    "# num_workers: number of processes to use for data loading.\n",
    "# num_workers = 0 is equivalent to no multiprocessing\n",
    "# Only use num_workers > 0 inside if __name__ == '__main__'"
   ]
  },
  {
   "cell_type": "code",
   "execution_count": 6,
   "metadata": {},
   "outputs": [
    {
     "name": "stdout",
     "output_type": "stream",
     "text": [
      "tensor([[1.2860e+01, 1.3500e+00, 2.3200e+00, 1.8000e+01, 1.2200e+02, 1.5100e+00,\n",
      "         1.2500e+00, 2.1000e-01, 9.4000e-01, 4.1000e+00, 7.6000e-01, 1.2900e+00,\n",
      "         6.3000e+02],\n",
      "        [1.4380e+01, 1.8700e+00, 2.3800e+00, 1.2000e+01, 1.0200e+02, 3.3000e+00,\n",
      "         3.6400e+00, 2.9000e-01, 2.9600e+00, 7.5000e+00, 1.2000e+00, 3.0000e+00,\n",
      "         1.5470e+03],\n",
      "        [1.2770e+01, 2.3900e+00, 2.2800e+00, 1.9500e+01, 8.6000e+01, 1.3900e+00,\n",
      "         5.1000e-01, 4.8000e-01, 6.4000e-01, 9.9000e+00, 5.7000e-01, 1.6300e+00,\n",
      "         4.7000e+02],\n",
      "        [1.3780e+01, 2.7600e+00, 2.3000e+00, 2.2000e+01, 9.0000e+01, 1.3500e+00,\n",
      "         6.8000e-01, 4.1000e-01, 1.0300e+00, 9.5800e+00, 7.0000e-01, 1.6800e+00,\n",
      "         6.1500e+02]]) tensor([[3.],\n",
      "        [1.],\n",
      "        [3.],\n",
      "        [3.]])\n"
     ]
    }
   ],
   "source": [
    "dataiter = iter(dataloader)\n",
    "data = dataiter.next()\n",
    "features, labels = data\n",
    "print(features, labels)"
   ]
  },
  {
   "cell_type": "code",
   "execution_count": 7,
   "metadata": {},
   "outputs": [
    {
     "name": "stdout",
     "output_type": "stream",
     "text": [
      "178 45\n"
     ]
    }
   ],
   "source": [
    "num_epochs = 2\n",
    "total_sample = len(dataset)\n",
    "n_iters = math.ceil(total_sample / 4)\n",
    "print(total_sample, n_iters)"
   ]
  },
  {
   "cell_type": "markdown",
   "metadata": {},
   "source": [
    "## Dummy Training Loop"
   ]
  },
  {
   "cell_type": "code",
   "execution_count": 8,
   "metadata": {},
   "outputs": [
    {
     "name": "stdout",
     "output_type": "stream",
     "text": [
      "epoch: 1, iter: 5/45, inputs: torch.Size([4, 13]), labels: torch.Size([4, 1])\n",
      "epoch: 1, iter: 10/45, inputs: torch.Size([4, 13]), labels: torch.Size([4, 1])\n",
      "epoch: 1, iter: 15/45, inputs: torch.Size([4, 13]), labels: torch.Size([4, 1])\n",
      "epoch: 1, iter: 20/45, inputs: torch.Size([4, 13]), labels: torch.Size([4, 1])\n",
      "epoch: 1, iter: 25/45, inputs: torch.Size([4, 13]), labels: torch.Size([4, 1])\n",
      "epoch: 1, iter: 30/45, inputs: torch.Size([4, 13]), labels: torch.Size([4, 1])\n",
      "epoch: 1, iter: 35/45, inputs: torch.Size([4, 13]), labels: torch.Size([4, 1])\n",
      "epoch: 1, iter: 40/45, inputs: torch.Size([4, 13]), labels: torch.Size([4, 1])\n",
      "epoch: 1, iter: 45/45, inputs: torch.Size([2, 13]), labels: torch.Size([2, 1])\n",
      "epoch: 2, iter: 5/45, inputs: torch.Size([4, 13]), labels: torch.Size([4, 1])\n",
      "epoch: 2, iter: 10/45, inputs: torch.Size([4, 13]), labels: torch.Size([4, 1])\n",
      "epoch: 2, iter: 15/45, inputs: torch.Size([4, 13]), labels: torch.Size([4, 1])\n",
      "epoch: 2, iter: 20/45, inputs: torch.Size([4, 13]), labels: torch.Size([4, 1])\n",
      "epoch: 2, iter: 25/45, inputs: torch.Size([4, 13]), labels: torch.Size([4, 1])\n",
      "epoch: 2, iter: 30/45, inputs: torch.Size([4, 13]), labels: torch.Size([4, 1])\n",
      "epoch: 2, iter: 35/45, inputs: torch.Size([4, 13]), labels: torch.Size([4, 1])\n",
      "epoch: 2, iter: 40/45, inputs: torch.Size([4, 13]), labels: torch.Size([4, 1])\n",
      "epoch: 2, iter: 45/45, inputs: torch.Size([2, 13]), labels: torch.Size([2, 1])\n"
     ]
    }
   ],
   "source": [
    "for epoch in range(num_epochs):\n",
    "    for i, (inputs, labels) in enumerate(dataloader):\n",
    "        if (i + 1) % 5 == 0:\n",
    "            print(f\"epoch: {epoch+1}, iter: {i+1}/{n_iters}, inputs: {inputs.shape}, labels: {labels.shape}\")"
   ]
  },
  {
   "cell_type": "markdown",
   "metadata": {},
   "source": [
    "## Other Datasets"
   ]
  },
  {
   "cell_type": "code",
   "execution_count": 9,
   "metadata": {},
   "outputs": [
    {
     "name": "stdout",
     "output_type": "stream",
     "text": [
      "torch.Size([3, 1, 28, 28]) torch.Size([3])\n"
     ]
    }
   ],
   "source": [
    "# some famous datasets are available in torchvision.datasets\n",
    "# e.g. MNIST, Fashion-MNIST, CIFAR10, COCO\n",
    "\n",
    "train_dataset = torchvision.datasets.MNIST(root='./data', train=True, transform=torchvision.transforms.ToTensor(), download=True)\n",
    "\n",
    "train_loader = DataLoader(dataset=train_dataset, batch_size=3, shuffle=True)\n",
    "\n",
    "# look at one random sample\n",
    "dataiter = iter(train_loader)\n",
    "data = dataiter.next()\n",
    "inputs, targets = data\n",
    "print(inputs.shape, targets.shape)"
   ]
  }
 ],
 "metadata": {
  "interpreter": {
   "hash": "45d8ea3e326f40352e2cac764a779e57c7fb84d54b1e3f5b86b0ed310eb374e6"
  },
  "kernelspec": {
   "display_name": "Python 3.9.12 ('pytorch')",
   "language": "python",
   "name": "python3"
  },
  "language_info": {
   "codemirror_mode": {
    "name": "ipython",
    "version": 3
   },
   "file_extension": ".py",
   "mimetype": "text/x-python",
   "name": "python",
   "nbconvert_exporter": "python",
   "pygments_lexer": "ipython3",
   "version": "3.9.12"
  },
  "orig_nbformat": 4
 },
 "nbformat": 4,
 "nbformat_minor": 2
}
