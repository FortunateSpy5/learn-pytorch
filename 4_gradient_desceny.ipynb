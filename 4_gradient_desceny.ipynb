{
 "cells": [
  {
   "cell_type": "markdown",
   "metadata": {},
   "source": [
    "# Gradient Descent Using Autograd"
   ]
  },
  {
   "cell_type": "code",
   "execution_count": 1,
   "metadata": {},
   "outputs": [],
   "source": [
    "import numpy as np\n",
    "import torch"
   ]
  },
  {
   "cell_type": "markdown",
   "metadata": {},
   "source": [
    "## Completely Manual\n",
    "* Prediction: Manual\n",
    "* Gradient Computation: Manual\n",
    "* Loss Computation: Manual\n",
    "* Parameter Updates: Manual"
   ]
  },
  {
   "cell_type": "code",
   "execution_count": 2,
   "metadata": {},
   "outputs": [
    {
     "name": "stdout",
     "output_type": "stream",
     "text": [
      "Prediction before training: 0.000\n",
      "epoch: 1, loss: 30.00000000, w: 0.300\n",
      "epoch: 3, loss: 15.66018677, w: 0.772\n",
      "epoch: 5, loss: 8.17471600, w: 1.113\n",
      "epoch: 7, loss: 4.26725292, w: 1.359\n",
      "epoch: 9, loss: 2.22753215, w: 1.537\n",
      "epoch: 11, loss: 1.16278565, w: 1.665\n",
      "epoch: 13, loss: 0.60698175, w: 1.758\n",
      "epoch: 15, loss: 0.31684822, w: 1.825\n",
      "epoch: 17, loss: 0.16539653, w: 1.874\n",
      "epoch: 19, loss: 0.08633806, w: 1.909\n",
      "Prediction after training: 9.612\n"
     ]
    }
   ],
   "source": [
    "X = np.array([1, 2, 3, 4], dtype=np.float32)\n",
    "Y = np.array([2, 4, 6, 8], dtype=np.float32)\n",
    "w = 0.0\n",
    "\n",
    "# forward pass\n",
    "def forward(x):\n",
    "    return x * w\n",
    "\n",
    "# loss = MSE\n",
    "def loss(y, y_pred):\n",
    "    return ((y - y_pred) ** 2).mean()\n",
    "\n",
    "# gradient\n",
    "# MSE = 1/n * (w*x - y)**2\n",
    "# dJ/dw = 1/n * 2x * (w*x - y)\n",
    "def gradient(x, y, y_pred):\n",
    "    return np.dot(2 * x, y_pred - y) / len(x)\n",
    "\n",
    "print(f\"Prediction before training: {forward(5):.3f}\")\n",
    "\n",
    "# Training\n",
    "learning_rate = 0.01\n",
    "n_iters = 20\n",
    "\n",
    "for epoch in range(n_iters):\n",
    "    # Forward pass\n",
    "    y_pred = forward(X)\n",
    "    # Compute loss\n",
    "    l = loss(Y, y_pred)\n",
    "    # Gradient\n",
    "    dw = gradient(X, Y, y_pred)\n",
    "    # Update weights\n",
    "    w -= learning_rate * dw\n",
    "    \n",
    "    if epoch % 2 == 0:\n",
    "        print(f\"epoch: {epoch + 1}, loss: {l:.8f}, w: {w:.3f}\")\n",
    "\n",
    "print(f\"Prediction after training: {forward(5):.3f}\")\n"
   ]
  },
  {
   "cell_type": "markdown",
   "metadata": {},
   "source": [
    "## Gradient Using Autograd\n",
    "* Prediction: Manual\n",
    "* Gradient Computation: Autograd\n",
    "* Loss Computation: Manual\n",
    "* Parameter Updates: Manual"
   ]
  },
  {
   "cell_type": "code",
   "execution_count": 3,
   "metadata": {},
   "outputs": [
    {
     "name": "stdout",
     "output_type": "stream",
     "text": [
      "Prediction before training: 0.000\n",
      "epoch: 1, loss: 30.00000000, w: 0.300\n",
      "epoch: 3, loss: 15.66018772, w: 0.772\n",
      "epoch: 5, loss: 8.17471695, w: 1.113\n",
      "epoch: 7, loss: 4.26725292, w: 1.359\n",
      "epoch: 9, loss: 2.22753215, w: 1.537\n",
      "epoch: 11, loss: 1.16278565, w: 1.665\n",
      "epoch: 13, loss: 0.60698116, w: 1.758\n",
      "epoch: 15, loss: 0.31684780, w: 1.825\n",
      "epoch: 17, loss: 0.16539653, w: 1.874\n",
      "epoch: 19, loss: 0.08633806, w: 1.909\n",
      "Prediction after training: 9.612\n"
     ]
    }
   ],
   "source": [
    "X = torch.tensor([1, 2, 3, 4], dtype=torch.float32)\n",
    "Y = torch.tensor([2, 4, 6, 8], dtype=torch.float32)\n",
    "\n",
    "w = torch.tensor(0.0, dtype=torch.float32, requires_grad=True)\n",
    "\n",
    "# forward pass\n",
    "def forward(x):\n",
    "    return x * w\n",
    "\n",
    "# loss = MSE\n",
    "def loss(y, y_pred):\n",
    "    return ((y - y_pred) ** 2).mean()\n",
    "\n",
    "print(f\"Prediction before training: {forward(5):.3f}\")\n",
    "\n",
    "# Training\n",
    "learning_rate = 0.01\n",
    "n_iters = 20\n",
    "\n",
    "for epoch in range(n_iters):\n",
    "    # Forward pass\n",
    "    y_pred = forward(X)\n",
    "    # Compute loss\n",
    "    l = loss(Y, y_pred)\n",
    "    # Gradient\n",
    "    l.backward() # dl/dw = dl/dy * dy/dw\n",
    "    # Update weights\n",
    "    with torch.no_grad():\n",
    "        w -= learning_rate * w.grad\n",
    "    # zero gradients\n",
    "    w.grad.zero_()\n",
    "    \n",
    "    if epoch % 2 == 0:\n",
    "        print(f\"epoch: {epoch + 1}, loss: {l:.8f}, w: {w:.3f}\")\n",
    "\n",
    "print(f\"Prediction after training: {forward(5):.3f}\")\n"
   ]
  },
  {
   "cell_type": "markdown",
   "metadata": {},
   "source": [
    "## PyTorch Loss & Optimizaer\n",
    "* Prediction: Manual\n",
    "* Gradient Computation: Autograd\n",
    "* Loss Computation: PyTorch Loss\n",
    "* Parameter Updates: PyTorh Optimizer"
   ]
  },
  {
   "cell_type": "code",
   "execution_count": 4,
   "metadata": {},
   "outputs": [],
   "source": [
    "import torch\n",
    "import torch.nn as nn"
   ]
  },
  {
   "cell_type": "code",
   "execution_count": 5,
   "metadata": {},
   "outputs": [
    {
     "name": "stdout",
     "output_type": "stream",
     "text": [
      "Prediction before training: 0.000\n",
      "epoch: 1, loss: 30.00000000, w: 0.300\n",
      "epoch: 3, loss: 15.66018772, w: 0.772\n",
      "epoch: 5, loss: 8.17471695, w: 1.113\n",
      "epoch: 7, loss: 4.26725292, w: 1.359\n",
      "epoch: 9, loss: 2.22753215, w: 1.537\n",
      "epoch: 11, loss: 1.16278565, w: 1.665\n",
      "epoch: 13, loss: 0.60698116, w: 1.758\n",
      "epoch: 15, loss: 0.31684780, w: 1.825\n",
      "epoch: 17, loss: 0.16539653, w: 1.874\n",
      "epoch: 19, loss: 0.08633806, w: 1.909\n",
      "Prediction after training: 9.612\n"
     ]
    }
   ],
   "source": [
    "X = torch.tensor([1, 2, 3, 4], dtype=torch.float32)\n",
    "Y = torch.tensor([2, 4, 6, 8], dtype=torch.float32)\n",
    "\n",
    "w = torch.tensor(0.0, dtype=torch.float32, requires_grad=True)\n",
    "\n",
    "# forward pass\n",
    "def forward(x):\n",
    "    return x * w\n",
    "\n",
    "print(f\"Prediction before training: {forward(5):.3f}\")\n",
    "\n",
    "# Training\n",
    "learning_rate = 0.01\n",
    "n_iters = 20\n",
    "\n",
    "loss = nn.MSELoss()\n",
    "optimizer = torch.optim.SGD([w], lr=learning_rate)\n",
    "\n",
    "for epoch in range(n_iters):\n",
    "    # Forward pass\n",
    "    y_pred = forward(X)\n",
    "    # Compute loss\n",
    "    l = loss(Y, y_pred)\n",
    "    # Gradient\n",
    "    l.backward() # dl/dw = dl/dy * dy/dw\n",
    "    # Update weights\n",
    "    optimizer.step()\n",
    "    # zero gradients\n",
    "    optimizer.zero_grad()\n",
    "    \n",
    "    if epoch % 2 == 0:\n",
    "        print(f\"epoch: {epoch + 1}, loss: {l:.8f}, w: {w:.3f}\")\n",
    "\n",
    "print(f\"Prediction after training: {forward(5):.3f}\")\n"
   ]
  },
  {
   "cell_type": "markdown",
   "metadata": {},
   "source": [
    "## PyTorch Model\n",
    "* Prediction: PyTorch Model\n",
    "* Gradient Computation: Autograd\n",
    "* Loss Computation: PyTorch Loss\n",
    "* Parameter Updates: PyTorh Optimizer"
   ]
  },
  {
   "cell_type": "code",
   "execution_count": 6,
   "metadata": {},
   "outputs": [
    {
     "name": "stdout",
     "output_type": "stream",
     "text": [
      "4 1\n",
      "Prediction before training: 2.058\n",
      "epoch: 1, loss: 16.72672653, w: 1.380\n",
      "epoch: 3, loss: 0.23685831, w: 1.605\n",
      "epoch: 5, loss: 0.21150288, w: 1.623\n",
      "epoch: 7, loss: 0.19911158, w: 1.634\n",
      "epoch: 9, loss: 0.18745413, w: 1.645\n",
      "epoch: 11, loss: 0.17647935, w: 1.656\n",
      "epoch: 13, loss: 0.16614705, w: 1.666\n",
      "epoch: 15, loss: 0.15641966, w: 1.676\n",
      "epoch: 17, loss: 0.14726175, w: 1.685\n",
      "epoch: 19, loss: 0.13864003, w: 1.695\n",
      "Prediction after training: 9.381\n"
     ]
    }
   ],
   "source": [
    "X = torch.tensor([[1], [2], [3], [4]], dtype=torch.float32)\n",
    "Y = torch.tensor([[2], [4], [6], [8]], dtype=torch.float32)\n",
    "\n",
    "X_test = torch.tensor([5], dtype=torch.float32)\n",
    "\n",
    "n_samples, n_features = X.shape\n",
    "print(n_samples, n_features)\n",
    "\n",
    "input_size = n_features\n",
    "output_size = n_features\n",
    "\n",
    "model = nn.Linear(input_size, output_size)\n",
    "\n",
    "print(f\"Prediction before training: {model(X_test).item():.3f}\")\n",
    "\n",
    "# Training\n",
    "learning_rate = 0.05\n",
    "n_iters = 20\n",
    "\n",
    "loss = nn.MSELoss()\n",
    "optimizer = torch.optim.SGD(model.parameters(), lr=learning_rate)\n",
    "\n",
    "for epoch in range(n_iters):\n",
    "    # Forward pass\n",
    "    y_pred = model(X)\n",
    "    # Compute loss\n",
    "    l = loss(Y, y_pred)\n",
    "    # Gradient\n",
    "    l.backward() # dl/dw = dl/dy * dy/dw\n",
    "    # Update weights\n",
    "    optimizer.step()\n",
    "    # zero gradients\n",
    "    optimizer.zero_grad()\n",
    "    \n",
    "    if epoch % 2 == 0:\n",
    "        [w, b] = model.parameters()\n",
    "        print(f\"epoch: {epoch + 1}, loss: {l:.8f}, w: {w[0][0].item():.3f}\")\n",
    "\n",
    "print(f\"Prediction after training: {model(X_test).item():.3f}\")"
   ]
  },
  {
   "cell_type": "markdown",
   "metadata": {},
   "source": [
    "## Custom Model"
   ]
  },
  {
   "cell_type": "code",
   "execution_count": 7,
   "metadata": {},
   "outputs": [],
   "source": [
    "class LinearRegression(nn.Module):\n",
    "    def __init__(self, input_size, output_size):\n",
    "        super(LinearRegression, self).__init__()\n",
    "        self.linear = nn.Linear(input_size, output_size)\n",
    "    \n",
    "    def forward(self, x):\n",
    "        return self.linear(x)"
   ]
  },
  {
   "cell_type": "code",
   "execution_count": 8,
   "metadata": {},
   "outputs": [
    {
     "name": "stdout",
     "output_type": "stream",
     "text": [
      "4 1\n",
      "Prediction before training: 3.254\n",
      "epoch: 1, loss: 16.05067444, w: 1.907\n",
      "epoch: 3, loss: 0.03332223, w: 2.114\n",
      "epoch: 5, loss: 0.02020401, w: 2.116\n",
      "epoch: 7, loss: 0.01901285, w: 2.113\n",
      "epoch: 9, loss: 0.01789968, w: 2.110\n",
      "epoch: 11, loss: 0.01685171, w: 2.106\n",
      "epoch: 13, loss: 0.01586509, w: 2.103\n",
      "epoch: 15, loss: 0.01493621, w: 2.100\n",
      "epoch: 17, loss: 0.01406175, w: 2.097\n",
      "epoch: 19, loss: 0.01323848, w: 2.094\n",
      "Prediction after training: 10.191\n"
     ]
    }
   ],
   "source": [
    "X = torch.tensor([[1], [2], [3], [4]], dtype=torch.float32)\n",
    "Y = torch.tensor([[2], [4], [6], [8]], dtype=torch.float32)\n",
    "\n",
    "X_test = torch.tensor([5], dtype=torch.float32)\n",
    "\n",
    "n_samples, n_features = X.shape\n",
    "print(n_samples, n_features)\n",
    "\n",
    "input_size = n_features\n",
    "output_size = n_features\n",
    "\n",
    "model = LinearRegression(input_size, output_size)\n",
    "\n",
    "print(f\"Prediction before training: {model(X_test).item():.3f}\")\n",
    "\n",
    "# Training\n",
    "learning_rate = 0.05\n",
    "n_iters = 20\n",
    "\n",
    "loss = nn.MSELoss()\n",
    "optimizer = torch.optim.SGD(model.parameters(), lr=learning_rate)\n",
    "\n",
    "for epoch in range(n_iters):\n",
    "    # Forward pass\n",
    "    y_pred = model(X)\n",
    "    # Compute loss\n",
    "    l = loss(Y, y_pred)\n",
    "    # Gradient\n",
    "    l.backward() # dl/dw = dl/dy * dy/dw\n",
    "    # Update weights\n",
    "    optimizer.step()\n",
    "    # zero gradients\n",
    "    optimizer.zero_grad()\n",
    "    \n",
    "    if epoch % 2 == 0:\n",
    "        [w, b] = model.parameters()\n",
    "        print(f\"epoch: {epoch + 1}, loss: {l:.8f}, w: {w[0][0].item():.3f}\")\n",
    "\n",
    "print(f\"Prediction after training: {model(X_test).item():.3f}\")"
   ]
  }
 ],
 "metadata": {
  "interpreter": {
   "hash": "45d8ea3e326f40352e2cac764a779e57c7fb84d54b1e3f5b86b0ed310eb374e6"
  },
  "kernelspec": {
   "display_name": "Python 3.9.12 ('pytorch')",
   "language": "python",
   "name": "python3"
  },
  "language_info": {
   "codemirror_mode": {
    "name": "ipython",
    "version": 3
   },
   "file_extension": ".py",
   "mimetype": "text/x-python",
   "name": "python",
   "nbconvert_exporter": "python",
   "pygments_lexer": "ipython3",
   "version": "3.9.12"
  },
  "orig_nbformat": 4
 },
 "nbformat": 4,
 "nbformat_minor": 2
}
