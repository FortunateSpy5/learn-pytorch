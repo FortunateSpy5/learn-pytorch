{
 "cells": [
  {
   "cell_type": "markdown",
   "metadata": {},
   "source": [
    "# Convolutional Neural Network MNIST"
   ]
  },
  {
   "cell_type": "markdown",
   "metadata": {},
   "source": [
    "### Imports"
   ]
  },
  {
   "cell_type": "code",
   "execution_count": 1,
   "metadata": {},
   "outputs": [],
   "source": [
    "import torch\n",
    "import torch.nn as nn\n",
    "import torchvision.transforms as transforms\n",
    "import torchvision.datasets as datasets\n",
    "import matplotlib.pyplot as plt\n",
    "import cv2\n",
    "import numpy as np\n",
    "from PIL import Image"
   ]
  },
  {
   "cell_type": "markdown",
   "metadata": {},
   "source": [
    "### Transform"
   ]
  },
  {
   "cell_type": "code",
   "execution_count": 2,
   "metadata": {},
   "outputs": [],
   "source": [
    "# It is known for this dataset but we can also calculate it by looping through the dataset\n",
    "mean_gray = 0.1307\n",
    "stddev_gray = 0.3081\n",
    "\n",
    "transform = transforms.Compose([\n",
    "    transforms.ToTensor(),\n",
    "    transforms.Normalize((mean_gray,), (stddev_gray,))\n",
    "])"
   ]
  },
  {
   "cell_type": "markdown",
   "metadata": {},
   "source": [
    "### Dataset"
   ]
  },
  {
   "cell_type": "code",
   "execution_count": 3,
   "metadata": {},
   "outputs": [],
   "source": [
    "train_dataset = datasets.MNIST(root='./data', train=True, transform=transform, download=True)\n",
    "test_dataset = datasets.MNIST(root='./data', train=False, transform=transform)"
   ]
  },
  {
   "cell_type": "markdown",
   "metadata": {},
   "source": [
    "### Plotting"
   ]
  },
  {
   "cell_type": "code",
   "execution_count": 4,
   "metadata": {},
   "outputs": [
    {
     "name": "stdout",
     "output_type": "stream",
     "text": [
      "Label: 4\n"
     ]
    },
    {
     "data": {
      "image/png": "[encoded data removed]",
      "text/plain": [
       "<Figure size 432x288 with 1 Axes>"
      ]
     },
     "metadata": {
      "needs_background": "light"
     },
     "output_type": "display_data"
    }
   ],
   "source": [
    "plt.imshow(train_dataset[20][0].numpy().squeeze(), cmap='gray_r')\n",
    "print('Label:', train_dataset[20][1])"
   ]
  },
  {
   "cell_type": "markdown",
   "metadata": {},
   "source": [
    "### Data Loader"
   ]
  },
  {
   "cell_type": "code",
   "execution_count": 5,
   "metadata": {},
   "outputs": [],
   "source": [
    "batch_size = 100\n",
    "\n",
    "train_loader = torch.utils.data.DataLoader(dataset=train_dataset, batch_size=batch_size, shuffle=True)\n",
    "test_loader = torch.utils.data.DataLoader(dataset=test_dataset, batch_size=batch_size, shuffle=False)"
   ]
  },
  {
   "cell_type": "markdown",
   "metadata": {},
   "source": [
    "### Model"
   ]
  },
  {
   "cell_type": "code",
   "execution_count": 6,
   "metadata": {},
   "outputs": [],
   "source": [
    "class CNNMNIST(nn.Module):\n",
    "    def __init__(self):\n",
    "        super().__init__()\n",
    "        self.conv1 = nn.Conv2d(1, 8, 3, 1, 1)\n",
    "        self.batchnorm1 = nn.BatchNorm2d(8)\n",
    "        self.relu = nn.ReLU()\n",
    "        self.maxpool = nn.MaxPool2d(2, 2)   \n",
    "        self.conv2 = nn.Conv2d(8, 32, 5, 1, 2)\n",
    "        self.batchnorm2 = nn.BatchNorm2d(32)\n",
    "        self.fc1 = nn.Linear(7*7*32, 600)\n",
    "        self.dropout = nn.Dropout(0.5)\n",
    "        self.fc2 = nn.Linear(600, 10)\n",
    "    \n",
    "    def forward(self, x):\n",
    "        out = self.conv1(x)\n",
    "        out = self.batchnorm1(out)\n",
    "        out = self.relu(out)\n",
    "        out = self.maxpool(out)\n",
    "        out = self.conv2(out)\n",
    "        out = self.batchnorm2(out)\n",
    "        out = self.relu(out)\n",
    "        out = self.maxpool(out)\n",
    "        # Flatten\n",
    "        out = out.view(out.size(0), -1)\n",
    "        out = self.fc1(out)\n",
    "        out = self.relu(out)\n",
    "        out = self.dropout(out)\n",
    "        out = self.fc2(out)\n",
    "        return out"
   ]
  },
  {
   "cell_type": "markdown",
   "metadata": {},
   "source": [
    "### Model Object"
   ]
  },
  {
   "cell_type": "code",
   "execution_count": 7,
   "metadata": {},
   "outputs": [],
   "source": [
    "device = torch.device('cuda:0' if torch.cuda.is_available() else 'cpu')\n",
    "model = CNNMNIST().to(device)\n",
    "criterion = nn.CrossEntropyLoss()\n",
    "optimizer = torch.optim.Adam(model.parameters(), lr=0.001)"
   ]
  },
  {
   "cell_type": "markdown",
   "metadata": {},
   "source": [
    "### Training"
   ]
  },
  {
   "cell_type": "code",
   "execution_count": 8,
   "metadata": {},
   "outputs": [
    {
     "name": "stdout",
     "output_type": "stream",
     "text": [
      "Epoch 1/15, Train Loss: 0.1701, Train Acc: 94.64, Test Loss: 0.0469, Test Acc: 98.37\n",
      "Epoch 2/15, Train Loss: 0.0692, Train Acc: 97.85, Test Loss: 0.0353, Test Acc: 98.82\n",
      "Epoch 3/15, Train Loss: 0.0518, Train Acc: 98.37, Test Loss: 0.0333, Test Acc: 98.88\n",
      "Epoch 4/15, Train Loss: 0.0413, Train Acc: 98.65, Test Loss: 0.0259, Test Acc: 99.10\n",
      "Epoch 5/15, Train Loss: 0.0348, Train Acc: 98.88, Test Loss: 0.0299, Test Acc: 99.07\n",
      "Epoch 6/15, Train Loss: 0.0312, Train Acc: 99.01, Test Loss: 0.0260, Test Acc: 99.19\n",
      "Epoch 7/15, Train Loss: 0.0277, Train Acc: 99.11, Test Loss: 0.0283, Test Acc: 99.16\n",
      "Epoch 8/15, Train Loss: 0.0237, Train Acc: 99.22, Test Loss: 0.0240, Test Acc: 99.28\n",
      "Epoch 9/15, Train Loss: 0.0200, Train Acc: 99.34, Test Loss: 0.0278, Test Acc: 99.12\n",
      "Epoch 10/15, Train Loss: 0.0170, Train Acc: 99.43, Test Loss: 0.0258, Test Acc: 99.26\n",
      "Epoch 11/15, Train Loss: 0.0155, Train Acc: 99.49, Test Loss: 0.0239, Test Acc: 99.24\n",
      "Epoch 12/15, Train Loss: 0.0146, Train Acc: 99.49, Test Loss: 0.0251, Test Acc: 99.20\n",
      "Epoch 13/15, Train Loss: 0.0133, Train Acc: 99.54, Test Loss: 0.0241, Test Acc: 99.17\n",
      "Epoch 14/15, Train Loss: 0.0128, Train Acc: 99.56, Test Loss: 0.0268, Test Acc: 99.20\n",
      "Epoch 15/15, Train Loss: 0.0105, Train Acc: 99.66, Test Loss: 0.0272, Test Acc: 99.29\n"
     ]
    }
   ],
   "source": [
    "epochs = 15\n",
    "train_loss = []\n",
    "train_accuracy = []\n",
    "test_loss = []\n",
    "test_accuracy = []\n",
    "\n",
    "for epoch in range(epochs):\n",
    "    correct = 0\n",
    "    iterations = 0\n",
    "    iter_loss = 0.0\n",
    "    model.train() # Set model to training mode (for dropout and batchnorm)\n",
    "    for i, (images, labels) in enumerate(train_loader):\n",
    "        # Move tensors to the configured device\n",
    "        images = images.to(device)\n",
    "        labels = labels.to(device)\n",
    "        # Forward pass\n",
    "        outputs = model(images)\n",
    "        # Calculate loss\n",
    "        loss = criterion(outputs, labels)\n",
    "        iter_loss += loss.item()\n",
    "        iterations += 1\n",
    "        # Get predictions from the maximum value\n",
    "        _, predicted = torch.max(outputs.data, 1)\n",
    "        correct += (predicted == labels).sum().item()\n",
    "        # Backward and optimize\n",
    "        optimizer.zero_grad()\n",
    "        loss.backward()\n",
    "        optimizer.step()\n",
    "    \n",
    "    train_loss.append(iter_loss/iterations)\n",
    "    train_accuracy.append(100 * correct/len(train_dataset))\n",
    "    \n",
    "    correct = 0\n",
    "    iterations = 0\n",
    "    iter_loss = 0.0\n",
    "    model.eval() # Set model to evaluation mode (for dropout and batchnorm)\n",
    "    for i, (images, labels) in enumerate(test_loader):\n",
    "        # Move tensors to the configured device\n",
    "        images = images.to(device)\n",
    "        labels = labels.to(device)\n",
    "        # Forward pass\n",
    "        outputs = model(images)\n",
    "        # Calculate loss\n",
    "        loss = criterion(outputs, labels)\n",
    "        iter_loss += loss.item()\n",
    "        iterations += 1\n",
    "        # Get predictions from the maximum value\n",
    "        _, predicted = torch.max(outputs.data, 1)\n",
    "        correct += (predicted == labels).sum().item()\n",
    "    \n",
    "    test_loss.append(iter_loss/iterations)\n",
    "    test_accuracy.append(100 * correct/len(test_dataset))\n",
    "    \n",
    "    print(f\"Epoch {epoch+1}/{epochs}, Train Loss: {train_loss[-1]:.4f}, Train Acc: {train_accuracy[-1]:.2f}, Test Loss: {test_loss[-1]:.4f}, Test Acc: {test_accuracy[-1]:.2f}\")"
   ]
  },
  {
   "cell_type": "markdown",
   "metadata": {},
   "source": [
    "### Plot Result"
   ]
  },
  {
   "cell_type": "code",
   "execution_count": 9,
   "metadata": {},
   "outputs": [
    {
     "data": {
      "image/png": "[encoded data removed]",
      "text/plain": [
       "<Figure size 720x360 with 1 Axes>"
      ]
     },
     "metadata": {
      "needs_background": "light"
     },
     "output_type": "display_data"
    }
   ],
   "source": [
    "plt.figure(figsize=(10, 5))\n",
    "plt.plot(train_loss, label='Train Loss')\n",
    "plt.plot(test_loss, label='Test Loss')\n",
    "plt.legend()\n",
    "plt.show()"
   ]
  },
  {
   "cell_type": "code",
   "execution_count": 10,
   "metadata": {},
   "outputs": [
    {
     "data": {
      "image/png": "[encoded data removed]",
      "text/plain": [
       "<Figure size 720x360 with 1 Axes>"
      ]
     },
     "metadata": {
      "needs_background": "light"
     },
     "output_type": "display_data"
    }
   ],
   "source": [
    "plt.figure(figsize=(10, 5))\n",
    "plt.plot(train_accuracy, label='Train Accuracy')\n",
    "plt.plot(test_accuracy, label='Test Accuracy')\n",
    "plt.legend()\n",
    "plt.show()"
   ]
  },
  {
   "cell_type": "code",
   "execution_count": 11,
   "metadata": {},
   "outputs": [],
   "source": [
    "img = test_dataset[30][0].reshape(1, 1, 28, 28).to(device)\n",
    "label = test_dataset[30][1]\n",
    "model.eval()\n",
    "output = model(img)"
   ]
  },
  {
   "cell_type": "code",
   "execution_count": 12,
   "metadata": {},
   "outputs": [
    {
     "name": "stdout",
     "output_type": "stream",
     "text": [
      "Actual: 3\n",
      "Predicted: 3\n"
     ]
    },
    {
     "data": {
      "image/png": "[encoded data removed]",
      "text/plain": [
       "<Figure size 432x288 with 1 Axes>"
      ]
     },
     "metadata": {
      "needs_background": "light"
     },
     "output_type": "display_data"
    }
   ],
   "source": [
    "plt.imshow(img.cpu().numpy().squeeze(), cmap='gray_r')\n",
    "print('Actual:', label)\n",
    "print('Predicted:', torch.max(output.data, 1)[1].item())"
   ]
  },
  {
   "cell_type": "markdown",
   "metadata": {},
   "source": [
    "### Classify Own Image"
   ]
  },
  {
   "cell_type": "code",
   "execution_count": 13,
   "metadata": {},
   "outputs": [],
   "source": [
    "def predict(img_dir, model):\n",
    "    image = cv2.imread(img_dir, cv2.IMREAD_GRAYSCALE)\n",
    "    image = cv2.resize(image, (28, 28), interpolation=cv2.INTER_AREA)\n",
    "    ret, image = cv2.threshold(image, 127, 255, cv2.THRESH_BINARY_INV)\n",
    "    img = Image.fromarray(image)\n",
    "    img = transform(img)\n",
    "    img = img.reshape(1, 1, 28, 28).to(device)\n",
    "    plt.imshow(img.cpu().numpy().squeeze(), cmap='gray_r')\n",
    "    plt.show()\n",
    "    model.eval()\n",
    "    output = model(img)\n",
    "    print('Predicted:', torch.max(output.data, 1)[1].item())"
   ]
  },
  {
   "cell_type": "code",
   "execution_count": 14,
   "metadata": {},
   "outputs": [
    {
     "data": {
      "image/png": "[encoded data removed]",
      "text/plain": [
       "<Figure size 432x288 with 1 Axes>"
      ]
     },
     "metadata": {
      "needs_background": "light"
     },
     "output_type": "display_data"
    },
    {
     "name": "stdout",
     "output_type": "stream",
     "text": [
      "Predicted: 5\n"
     ]
    }
   ],
   "source": [
    "predict(\"./data/mnist_test.png\", model=model)"
   ]
  }
 ],
 "metadata": {
  "kernelspec": {
   "display_name": "Python 3.10.8 ('pytorch')",
   "language": "python",
   "name": "python3"
  },
  "language_info": {
   "codemirror_mode": {
    "name": "ipython",
    "version": 3
   },
   "file_extension": ".py",
   "mimetype": "text/x-python",
   "name": "python",
   "nbconvert_exporter": "python",
   "pygments_lexer": "ipython3",
   "version": "3.10.8"
  },
  "orig_nbformat": 4,
  "vscode": {
   "interpreter": {
    "hash": "079571a2d98e69c1029e062bab5439d652473f4c8d06888b961d2434b5eb26a4"
   }
  }
 },
 "nbformat": 4,
 "nbformat_minor": 2
}
