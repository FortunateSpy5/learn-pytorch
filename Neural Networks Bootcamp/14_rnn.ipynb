{
 "cells": [
  {
   "attachments": {},
   "cell_type": "markdown",
   "metadata": {},
   "source": [
    "# Recurrent Neural Networks"
   ]
  },
  {
   "cell_type": "code",
   "execution_count": 1,
   "metadata": {},
   "outputs": [],
   "source": [
    "import torch\n",
    "import os\n",
    "import torch.nn as nn\n",
    "import numpy as np\n",
    "from torch.nn.utils import clip_grad_norm"
   ]
  },
  {
   "cell_type": "code",
   "execution_count": 2,
   "metadata": {},
   "outputs": [],
   "source": [
    "class Dictionary(object):\n",
    "    def __init__(self):\n",
    "        self.word2idx = {}\n",
    "        self.idx2word = {}\n",
    "        self.idx = 0\n",
    "    \n",
    "    def add_word(self, word):\n",
    "        if word not in self.word2idx:\n",
    "            self.word2idx[word] = self.idx\n",
    "            self.idx2word[self.idx] = word\n",
    "            self.idx += 1\n",
    "    \n",
    "    def __len__(self):\n",
    "        return len(self.word2idx)"
   ]
  },
  {
   "cell_type": "code",
   "execution_count": 3,
   "metadata": {},
   "outputs": [],
   "source": [
    "class TextProcess(object):\n",
    "    def __init__(self):\n",
    "        self.dictionary = Dictionary()\n",
    "        \n",
    "    def get_data(self, path, batch_size=20):\n",
    "        with open(path, 'r') as f:\n",
    "            tokens = 0\n",
    "            for line in f:\n",
    "                words = line.split() + ['<eos>']\n",
    "                tokens += len(words)\n",
    "                for word in words:\n",
    "                    self.dictionary.add_word(word)\n",
    "        # 1D tensor that contains index of all the  words in the file\n",
    "        rep_tensor = torch.LongTensor(tokens)\n",
    "        index = 0\n",
    "        with open(path, 'r') as f:\n",
    "            for line in f:\n",
    "                words = line.split() + ['<eos>']\n",
    "                for word in words:\n",
    "                    rep_tensor[index] = self.dictionary.word2idx[word]\n",
    "                    index += 1\n",
    "        num_batches = rep_tensor.shape[0] // batch_size\n",
    "        # Remove remainder\n",
    "        rep_tensor = rep_tensor[:num_batches * batch_size]\n",
    "        return rep_tensor.view(batch_size, -1)"
   ]
  },
  {
   "cell_type": "code",
   "execution_count": 4,
   "metadata": {},
   "outputs": [],
   "source": [
    "embedding_size = 128\n",
    "hidden_size = 1024\n",
    "num_layers = 1\n",
    "num_epochs = 20\n",
    "batch_size = 20\n",
    "timesteps = 30\n",
    "learning_rate = 0.002"
   ]
  },
  {
   "cell_type": "code",
   "execution_count": 5,
   "metadata": {},
   "outputs": [],
   "source": [
    "corpus = TextProcess()"
   ]
  },
  {
   "cell_type": "code",
   "execution_count": 6,
   "metadata": {},
   "outputs": [],
   "source": [
    "rep_tensor = corpus.get_data('data/alice.txt', batch_size).to('cuda')"
   ]
  },
  {
   "cell_type": "code",
   "execution_count": 7,
   "metadata": {},
   "outputs": [
    {
     "name": "stdout",
     "output_type": "stream",
     "text": [
      "torch.Size([20, 1484])\n"
     ]
    }
   ],
   "source": [
    "print(rep_tensor.shape)"
   ]
  },
  {
   "cell_type": "code",
   "execution_count": 8,
   "metadata": {},
   "outputs": [
    {
     "name": "stdout",
     "output_type": "stream",
     "text": [
      "5290\n"
     ]
    }
   ],
   "source": [
    "vocab_size = len(corpus.dictionary)\n",
    "print(vocab_size)"
   ]
  },
  {
   "cell_type": "code",
   "execution_count": 9,
   "metadata": {},
   "outputs": [
    {
     "name": "stdout",
     "output_type": "stream",
     "text": [
      "49\n"
     ]
    }
   ],
   "source": [
    "num_batches = rep_tensor.shape[1] // timesteps\n",
    "print(num_batches)"
   ]
  },
  {
   "cell_type": "code",
   "execution_count": 10,
   "metadata": {},
   "outputs": [],
   "source": [
    "class TextGenerator(nn.Module):\n",
    "    def __init__(self, vocab_size, embed_size, hidden_size, num_layers):\n",
    "        super().__init__()\n",
    "        self.embed = nn.Embedding(vocab_size, embed_size)\n",
    "        self.lstm = nn.LSTM(embed_size, hidden_size, num_layers, batch_first=True)\n",
    "        self.linear = nn.Linear(hidden_size, vocab_size)\n",
    "    \n",
    "    def forward(self, x, states):\n",
    "        # Word embedding\n",
    "        x = self.embed(x)\n",
    "        # Reshape the input tensor\n",
    "        # x = x.view(batch_size,timesteps,embed_size)\n",
    "        out, (h, c) = self.lstm(x, states)\n",
    "        # Reshape the output from (samples, timesteps, output_features) to a shape for FC\n",
    "        # (batch_size * timesteps, hidden_size)\n",
    "        out = out.reshape(out.size(0) * out.size(1), out.size(2))\n",
    "        out = self.linear(out)\n",
    "        return out, (h, c)"
   ]
  },
  {
   "cell_type": "code",
   "execution_count": 11,
   "metadata": {},
   "outputs": [],
   "source": [
    "model = TextGenerator(vocab_size, embedding_size, hidden_size, num_layers).to('cuda')"
   ]
  },
  {
   "cell_type": "code",
   "execution_count": 12,
   "metadata": {},
   "outputs": [],
   "source": [
    "loss_fn = nn.CrossEntropyLoss()\n",
    "optimizer = torch.optim.Adam(model.parameters(), lr=learning_rate)"
   ]
  },
  {
   "cell_type": "code",
   "execution_count": 13,
   "metadata": {},
   "outputs": [
    {
     "name": "stderr",
     "output_type": "stream",
     "text": [
      "C:\\Users\\msoum\\AppData\\Local\\Temp\\ipykernel_7404\\525320973.py:17: UserWarning: torch.nn.utils.clip_grad_norm is now deprecated in favor of torch.nn.utils.clip_grad_norm_.\n",
      "  clip_grad_norm(model.parameters(), 0.5)\n"
     ]
    },
    {
     "name": "stdout",
     "output_type": "stream",
     "text": [
      "Epoch [1/20] Loss: 8.5715\n",
      "Epoch [2/20] Loss: 5.9308\n",
      "Epoch [3/20] Loss: 5.2171\n",
      "Epoch [4/20] Loss: 4.6095\n",
      "Epoch [5/20] Loss: 4.1298\n",
      "Epoch [6/20] Loss: 3.7112\n",
      "Epoch [7/20] Loss: 3.2626\n",
      "Epoch [8/20] Loss: 2.7714\n",
      "Epoch [9/20] Loss: 2.4098\n",
      "Epoch [10/20] Loss: 2.0225\n",
      "Epoch [11/20] Loss: 1.6661\n",
      "Epoch [12/20] Loss: 1.3753\n",
      "Epoch [13/20] Loss: 1.1592\n",
      "Epoch [14/20] Loss: 0.8643\n",
      "Epoch [15/20] Loss: 0.6199\n",
      "Epoch [16/20] Loss: 0.3834\n",
      "Epoch [17/20] Loss: 0.2883\n",
      "Epoch [18/20] Loss: 0.1568\n",
      "Epoch [19/20] Loss: 0.1019\n",
      "Epoch [20/20] Loss: 0.0798\n"
     ]
    }
   ],
   "source": [
    "for epoch in range(num_epochs):\n",
    "    # hidden and cell states\n",
    "    states = (\n",
    "        torch.zeros(num_layers, batch_size, hidden_size).to('cuda'),\n",
    "        torch.zeros(num_layers, batch_size, hidden_size).to('cuda')\n",
    "    )\n",
    "    for i in range(0, rep_tensor.size(1) - timesteps, timesteps):\n",
    "        # Get mini batch and targets\n",
    "        inputs = rep_tensor[:, i:i+timesteps].to('cuda')\n",
    "        targets = rep_tensor[:, (i+1):(i+timesteps+1)].to('cuda')\n",
    "        outputs, _ = model(inputs, states)\n",
    "        loss = loss_fn(outputs, targets.reshape(-1))\n",
    "        \n",
    "        model.zero_grad()\n",
    "        loss.backward()\n",
    "        \n",
    "        clip_grad_norm(model.parameters(), 0.5)\n",
    "        optimizer.step()\n",
    "        \n",
    "        step = (i + 1) // timesteps\n",
    "        if step % 100 == 0:\n",
    "            print(f'Epoch [{epoch+1}/{num_epochs}] Loss: {loss.item():.4f}')"
   ]
  },
  {
   "cell_type": "code",
   "execution_count": 17,
   "metadata": {},
   "outputs": [],
   "source": [
    "with torch.no_grad():\n",
    "    with open('data/results.txt', 'w') as f:\n",
    "        states = (\n",
    "            torch.zeros(num_layers, 1, hidden_size).to('cuda'),\n",
    "            torch.zeros(num_layers, 1, hidden_size).to('cuda')\n",
    "        )\n",
    "        inp = torch.randint(0, vocab_size, (1,)).long().unsqueeze(1).to('cuda')\n",
    "        \n",
    "        for i in range(500):\n",
    "            output, _ = model(inp, states)\n",
    "            prob = output.exp()\n",
    "            word_id = torch.multinomial(prob, num_samples=1).item()\n",
    "            inp.fill_(word_id)\n",
    "            word = corpus.dictionary.idx2word[word_id]\n",
    "            word = '\\n' if word == '<eos>' else word + ' '\n",
    "            f.write(word)"
   ]
  }
 ],
 "metadata": {
  "kernelspec": {
   "display_name": "pytorch",
   "language": "python",
   "name": "python3"
  },
  "language_info": {
   "codemirror_mode": {
    "name": "ipython",
    "version": 3
   },
   "file_extension": ".py",
   "mimetype": "text/x-python",
   "name": "python",
   "nbconvert_exporter": "python",
   "pygments_lexer": "ipython3",
   "version": "3.10.8"
  },
  "orig_nbformat": 4,
  "vscode": {
   "interpreter": {
    "hash": "079571a2d98e69c1029e062bab5439d652473f4c8d06888b961d2434b5eb26a4"
   }
  }
 },
 "nbformat": 4,
 "nbformat_minor": 2
}
