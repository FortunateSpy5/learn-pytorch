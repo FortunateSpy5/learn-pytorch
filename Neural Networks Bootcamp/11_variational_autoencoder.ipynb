{
 "cells": [
  {
   "attachments": {},
   "cell_type": "markdown",
   "metadata": {},
   "source": [
    "# Variational Autoencoder"
   ]
  },
  {
   "attachments": {},
   "cell_type": "markdown",
   "metadata": {},
   "source": [
    "### Imports"
   ]
  },
  {
   "cell_type": "code",
   "execution_count": 1,
   "metadata": {},
   "outputs": [],
   "source": [
    "import os\n",
    "import torch\n",
    "import torch.nn as nn\n",
    "import torch.nn.functional as F\n",
    "import torchvision\n",
    "from torchvision import transforms\n",
    "from torch.utils.data import DataLoader"
   ]
  },
  {
   "attachments": {},
   "cell_type": "markdown",
   "metadata": {},
   "source": [
    "### Data"
   ]
  },
  {
   "cell_type": "code",
   "execution_count": 2,
   "metadata": {},
   "outputs": [],
   "source": [
    "image_size = 784\n",
    "hidden_dim = 400\n",
    "latent_dim = 20\n",
    "batch_size = 128\n",
    "epochs = 10\n",
    "\n",
    "device = torch.device(\"cuda\" if torch.cuda.is_available() else \"cpu\")\n",
    "\n",
    "train_dataset = torchvision.datasets.MNIST(root='data', train=True, transform=transforms.ToTensor(), download=True)\n",
    "test_dataset = torchvision.datasets.MNIST(root='data', train=False, transform=transforms.ToTensor())\n",
    "\n",
    "train_loader = DataLoader(dataset=train_dataset, batch_size=batch_size, shuffle=True)\n",
    "test_loader = DataLoader(dataset=test_dataset, batch_size=batch_size, shuffle=False)\n",
    "\n",
    "# Create directory for reconstructed images\n",
    "sample_dir = 'vae_images'\n",
    "if not os.path.exists(sample_dir):\n",
    "    os.makedirs(sample_dir)"
   ]
  },
  {
   "attachments": {},
   "cell_type": "markdown",
   "metadata": {},
   "source": [
    "### Model"
   ]
  },
  {
   "cell_type": "code",
   "execution_count": 3,
   "metadata": {},
   "outputs": [],
   "source": [
    "class VAE(nn.Module):\n",
    "    def __init__(self):\n",
    "        super().__init__()\n",
    "        self.fc1 = nn.Linear(image_size, hidden_dim)\n",
    "        self.fc2_mean = nn.Linear(hidden_dim, latent_dim)\n",
    "        self.fc2_logvar = nn.Linear(hidden_dim, latent_dim)\n",
    "        self.fc3 = nn.Linear(latent_dim, hidden_dim)\n",
    "        self.fc4 = nn.Linear(hidden_dim, image_size)\n",
    "    \n",
    "    def encode(self, x):\n",
    "        h = F.relu(self.fc1(x))\n",
    "        return self.fc2_mean(h), self.fc2_logvar(h)\n",
    "    \n",
    "    def reparameterize(self, mean, logvar):\n",
    "        std = torch.exp(0.5 * logvar)\n",
    "        eps = torch.randn_like(std)\n",
    "        return mean + eps * std\n",
    "    \n",
    "    def decode(self, z):\n",
    "        h = F.relu(self.fc3(z))\n",
    "        return torch.sigmoid(self.fc4(h))\n",
    "\n",
    "    def forward(self, x):\n",
    "        mean, logvar = self.encode(x.view(-1, image_size))\n",
    "        z = self.reparameterize(mean, logvar)\n",
    "        return self.decode(z), mean, logvar"
   ]
  },
  {
   "attachments": {},
   "cell_type": "markdown",
   "metadata": {},
   "source": [
    "### Training"
   ]
  },
  {
   "cell_type": "code",
   "execution_count": 4,
   "metadata": {},
   "outputs": [],
   "source": [
    "model = VAE().to(device)\n",
    "optimizer = torch.optim.Adam(model.parameters(), lr=1e-3)"
   ]
  },
  {
   "cell_type": "code",
   "execution_count": 5,
   "metadata": {},
   "outputs": [],
   "source": [
    "def loss_function(recon_image, original_image, mean, logvar):\n",
    "    bce = F.binary_cross_entropy(recon_image, original_image.view(-1, image_size), reduction='sum')\n",
    "    kld = 0.5 * torch.sum(mean.pow(2) + logvar.exp() - logvar - 1)\n",
    "    # If dim=1, then the return ternsor will be of shape (batch_size, 1)\n",
    "    # So another sum is needed to get the total loss\n",
    "    return bce + kld"
   ]
  },
  {
   "cell_type": "code",
   "execution_count": 6,
   "metadata": {},
   "outputs": [],
   "source": [
    "def train(epoch):\n",
    "    model.train()\n",
    "    train_loss = 0\n",
    "    for i, (images, _) in enumerate(train_loader):\n",
    "        images = images.to(device)\n",
    "        recon_images, mean, logvar = model(images)\n",
    "        loss = loss_function(recon_images, images, mean, logvar)\n",
    "        optimizer.zero_grad()\n",
    "        loss.backward()\n",
    "        optimizer.step()\n",
    "        train_loss += loss.item()\n",
    "        if (i+1) % 100 == 0:\n",
    "            print(f'Epoch [{epoch+1}], Batch [{i+1}/{len(train_loader)}], Loss: {loss.item() / len(train_loader):.4f}')\n",
    "    print(f'Epoch [{epoch+1}], Average Loss: {train_loss/len(train_loader.dataset):.4f}')"
   ]
  },
  {
   "cell_type": "code",
   "execution_count": 7,
   "metadata": {},
   "outputs": [],
   "source": [
    "def test(epoch):\n",
    "    model.eval()\n",
    "    test_loss = 0\n",
    "    with torch.no_grad():\n",
    "        for i, (images, _) in enumerate(test_loader):\n",
    "            images = images.to(device)\n",
    "            recon_images, mean, logvar = model(images)\n",
    "            loss = loss_function(recon_images, images, mean, logvar)\n",
    "            test_loss += loss.item()\n",
    "            if i == 0:\n",
    "                comparison = torch.cat([images[:5], recon_images.view(batch_size, 1, 28, 28)[:5]])\n",
    "                torchvision.utils.save_image(comparison.cpu(), os.path.join(sample_dir, f'reconstruction_{epoch+1}.png'), nrow=5)\n",
    "    print(f'Test Loss: {test_loss / len(test_loader.dataset):.4f}')"
   ]
  },
  {
   "cell_type": "code",
   "execution_count": 8,
   "metadata": {},
   "outputs": [
    {
     "name": "stdout",
     "output_type": "stream",
     "text": [
      "Epoch [1], Batch [100/469], Loss: 50.0405\n",
      "Epoch [1], Batch [200/469], Loss: 42.5522\n",
      "Epoch [1], Batch [300/469], Loss: 38.0322\n",
      "Epoch [1], Batch [400/469], Loss: 34.3826\n",
      "Epoch [1], Average Loss: 164.5556\n",
      "Test Loss: 127.1950\n",
      "Epoch [2], Batch [100/469], Loss: 34.6890\n",
      "Epoch [2], Batch [200/469], Loss: 33.2544\n",
      "Epoch [2], Batch [300/469], Loss: 32.2783\n",
      "Epoch [2], Batch [400/469], Loss: 31.7993\n",
      "Epoch [2], Average Loss: 121.2632\n",
      "Test Loss: 115.4512\n",
      "Epoch [3], Batch [100/469], Loss: 31.7116\n",
      "Epoch [3], Batch [200/469], Loss: 32.0206\n",
      "Epoch [3], Batch [300/469], Loss: 31.4955\n",
      "Epoch [3], Batch [400/469], Loss: 30.2868\n",
      "Epoch [3], Average Loss: 114.6442\n",
      "Test Loss: 111.7778\n",
      "Epoch [4], Batch [100/469], Loss: 30.2835\n",
      "Epoch [4], Batch [200/469], Loss: 31.0493\n",
      "Epoch [4], Batch [300/469], Loss: 29.3748\n",
      "Epoch [4], Batch [400/469], Loss: 31.8540\n",
      "Epoch [4], Average Loss: 111.7311\n",
      "Test Loss: 109.7383\n",
      "Epoch [5], Batch [100/469], Loss: 30.6597\n",
      "Epoch [5], Batch [200/469], Loss: 28.9398\n",
      "Epoch [5], Batch [300/469], Loss: 29.7444\n",
      "Epoch [5], Batch [400/469], Loss: 29.0063\n",
      "Epoch [5], Average Loss: 109.9772\n",
      "Test Loss: 108.5957\n",
      "Epoch [6], Batch [100/469], Loss: 30.4356\n",
      "Epoch [6], Batch [200/469], Loss: 30.1902\n",
      "Epoch [6], Batch [300/469], Loss: 29.8305\n",
      "Epoch [6], Batch [400/469], Loss: 30.3662\n",
      "Epoch [6], Average Loss: 108.7900\n",
      "Test Loss: 107.6194\n",
      "Epoch [7], Batch [100/469], Loss: 29.3330\n",
      "Epoch [7], Batch [200/469], Loss: 28.3033\n",
      "Epoch [7], Batch [300/469], Loss: 29.0030\n",
      "Epoch [7], Batch [400/469], Loss: 28.9440\n",
      "Epoch [7], Average Loss: 107.9768\n",
      "Test Loss: 107.0592\n",
      "Epoch [8], Batch [100/469], Loss: 29.4330\n",
      "Epoch [8], Batch [200/469], Loss: 29.5724\n",
      "Epoch [8], Batch [300/469], Loss: 29.1260\n",
      "Epoch [8], Batch [400/469], Loss: 28.9901\n",
      "Epoch [8], Average Loss: 107.2535\n",
      "Test Loss: 106.5554\n",
      "Epoch [9], Batch [100/469], Loss: 29.4939\n",
      "Epoch [9], Batch [200/469], Loss: 29.1388\n",
      "Epoch [9], Batch [300/469], Loss: 28.7299\n",
      "Epoch [9], Batch [400/469], Loss: 28.8138\n",
      "Epoch [9], Average Loss: 106.7431\n",
      "Test Loss: 105.9887\n",
      "Epoch [10], Batch [100/469], Loss: 27.8389\n",
      "Epoch [10], Batch [200/469], Loss: 28.6559\n",
      "Epoch [10], Batch [300/469], Loss: 28.3433\n",
      "Epoch [10], Batch [400/469], Loss: 29.1031\n",
      "Epoch [10], Average Loss: 106.3377\n",
      "Test Loss: 105.7216\n"
     ]
    }
   ],
   "source": [
    "for epoch in range(0, epochs):\n",
    "    train(epoch)\n",
    "    test(epoch)\n",
    "    with torch.no_grad():\n",
    "        z = torch.randn(64, latent_dim).to(device)\n",
    "        sample = model.decode(z).view(-1, 1, 28, 28)\n",
    "        torchvision.utils.save_image(sample.cpu(), os.path.join(sample_dir, f'sample_{epoch+1}.png'))"
   ]
  }
 ],
 "metadata": {
  "kernelspec": {
   "display_name": "Python 3.10.8 ('pytorch')",
   "language": "python",
   "name": "python3"
  },
  "language_info": {
   "codemirror_mode": {
    "name": "ipython",
    "version": 3
   },
   "file_extension": ".py",
   "mimetype": "text/x-python",
   "name": "python",
   "nbconvert_exporter": "python",
   "pygments_lexer": "ipython3",
   "version": "3.10.8"
  },
  "orig_nbformat": 4,
  "vscode": {
   "interpreter": {
    "hash": "079571a2d98e69c1029e062bab5439d652473f4c8d06888b961d2434b5eb26a4"
   }
  }
 },
 "nbformat": 4,
 "nbformat_minor": 2
}
