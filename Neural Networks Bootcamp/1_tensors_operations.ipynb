{
 "cells": [
  {
   "cell_type": "code",
   "execution_count": 1,
   "metadata": {},
   "outputs": [
    {
     "name": "stderr",
     "output_type": "stream",
     "text": [
      "c:\\Users\\msoum\\anaconda3\\envs\\pytorch\\lib\\site-packages\\tqdm\\auto.py:22: TqdmWarning: IProgress not found. Please update jupyter and ipywidgets. See https://ipywidgets.readthedocs.io/en/stable/user_install.html\n",
      "  from .autonotebook import tqdm as notebook_tqdm\n"
     ]
    }
   ],
   "source": [
    "import torch"
   ]
  },
  {
   "cell_type": "markdown",
   "metadata": {},
   "source": [
    "### Torch Tensors"
   ]
  },
  {
   "cell_type": "code",
   "execution_count": 2,
   "metadata": {},
   "outputs": [
    {
     "name": "stdout",
     "output_type": "stream",
     "text": [
      "tensor([1, 2, 3, 4, 5])\n"
     ]
    }
   ],
   "source": [
    "# This is a 1D tensor\n",
    "a = torch.tensor([1, 2, 3, 4, 5])\n",
    "print(a)"
   ]
  },
  {
   "cell_type": "code",
   "execution_count": 3,
   "metadata": {},
   "outputs": [
    {
     "name": "stdout",
     "output_type": "stream",
     "text": [
      "tensor([[ 1,  2,  3],\n",
      "        [ 4,  5,  6],\n",
      "        [ 7,  8,  9],\n",
      "        [10, 11, 12]])\n"
     ]
    }
   ],
   "source": [
    "# This is a 2D tensor\n",
    "b = torch.tensor([[1, 2, 3], [4, 5, 6], [7, 8, 9], [10, 11, 12]])\n",
    "print(b)"
   ]
  },
  {
   "cell_type": "code",
   "execution_count": 4,
   "metadata": {},
   "outputs": [
    {
     "name": "stdout",
     "output_type": "stream",
     "text": [
      "torch.Size([5])\n",
      "torch.Size([4, 3])\n",
      "torch.Size([5])\n",
      "torch.Size([4, 3])\n"
     ]
    }
   ],
   "source": [
    "# Print the size of the tensors\n",
    "print(a.shape) # attribute\n",
    "print(b.shape)\n",
    "print(a.size()) # method\n",
    "print(b.size())"
   ]
  },
  {
   "cell_type": "code",
   "execution_count": 5,
   "metadata": {},
   "outputs": [
    {
     "name": "stdout",
     "output_type": "stream",
     "text": [
      "4\n"
     ]
    }
   ],
   "source": [
    "# Get the height or number of rows of the tensor\n",
    "print(b.shape[0])"
   ]
  },
  {
   "cell_type": "code",
   "execution_count": 6,
   "metadata": {},
   "outputs": [],
   "source": [
    "# FLoat tensor\n",
    "c = torch.FloatTensor([[1, 2, 3], [4, 5, 6], [7, 8, 9], [10, 11, 12]])\n",
    "# or\n",
    "c = torch.tensor([[1, 2, 3], [4, 5, 6], [7, 8, 9], [10, 11, 12]], dtype=torch.float32)"
   ]
  },
  {
   "cell_type": "code",
   "execution_count": 7,
   "metadata": {},
   "outputs": [],
   "source": [
    "d = torch.DoubleTensor([[1, 2, 3], [4, 5, 6], [7, 8, 9], [10, 11, 12]])\n",
    "# or\n",
    "d = torch.tensor([[1, 2, 3], [4, 5, 6], [7, 8, 9], [10, 11, 12]], dtype=torch.double)"
   ]
  },
  {
   "cell_type": "code",
   "execution_count": 8,
   "metadata": {},
   "outputs": [
    {
     "name": "stdout",
     "output_type": "stream",
     "text": [
      "tensor([[ 1.,  2.,  3.],\n",
      "        [ 4.,  5.,  6.],\n",
      "        [ 7.,  8.,  9.],\n",
      "        [10., 11., 12.]])\n",
      "torch.float32\n"
     ]
    }
   ],
   "source": [
    "print(c)\n",
    "print(c.dtype)"
   ]
  },
  {
   "cell_type": "code",
   "execution_count": 9,
   "metadata": {},
   "outputs": [
    {
     "name": "stdout",
     "output_type": "stream",
     "text": [
      "tensor([[ 1.,  2.,  3.],\n",
      "        [ 4.,  5.,  6.],\n",
      "        [ 7.,  8.,  9.],\n",
      "        [10., 11., 12.]], dtype=torch.float64)\n",
      "torch.float64\n"
     ]
    }
   ],
   "source": [
    "print(d)\n",
    "print(d.dtype)"
   ]
  },
  {
   "cell_type": "code",
   "execution_count": 10,
   "metadata": {},
   "outputs": [
    {
     "name": "stdout",
     "output_type": "stream",
     "text": [
      "tensor(6.5000)\n",
      "tensor(6.5000, dtype=torch.float64)\n"
     ]
    }
   ],
   "source": [
    "print(c.mean())\n",
    "print(d.mean())"
   ]
  },
  {
   "cell_type": "code",
   "execution_count": 11,
   "metadata": {},
   "outputs": [
    {
     "name": "stdout",
     "output_type": "stream",
     "text": [
      "tensor(3.6056)\n",
      "tensor(3.6056, dtype=torch.float64)\n"
     ]
    }
   ],
   "source": [
    "print(c.std())\n",
    "print(d.std())"
   ]
  },
  {
   "cell_type": "code",
   "execution_count": 12,
   "metadata": {},
   "outputs": [
    {
     "name": "stdout",
     "output_type": "stream",
     "text": [
      "tensor([[ 1],\n",
      "        [ 2],\n",
      "        [ 3],\n",
      "        [ 4],\n",
      "        [ 5],\n",
      "        [ 6],\n",
      "        [ 7],\n",
      "        [ 8],\n",
      "        [ 9],\n",
      "        [10],\n",
      "        [11],\n",
      "        [12]])\n",
      "tensor([ 1,  2,  3,  4,  5,  6,  7,  8,  9, 10, 11, 12])\n",
      "tensor([[ 1,  2,  3,  4],\n",
      "        [ 5,  6,  7,  8],\n",
      "        [ 9, 10, 11, 12]])\n",
      "tensor([[ 1,  2,  3,  4],\n",
      "        [ 5,  6,  7,  8],\n",
      "        [ 9, 10, 11, 12]])\n",
      "tensor([[ 1,  2,  3,  4,  5,  6,  7,  8,  9, 10, 11, 12]])\n",
      "torch.Size([1, 12])\n"
     ]
    }
   ],
   "source": [
    "# Reshape tensor b\n",
    "print(b.view(-1, 1))\n",
    "# -1 means that the number of rows is inferred from the number of columns\n",
    "print(b.view(12))\n",
    "print(b.view(-1, 4))\n",
    "print(b.view(3, 4))\n",
    "# Assign b a new shape\n",
    "b = b.view(1, -1)\n",
    "print(b)\n",
    "print(b.shape)"
   ]
  },
  {
   "cell_type": "code",
   "execution_count": 13,
   "metadata": {},
   "outputs": [
    {
     "name": "stdout",
     "output_type": "stream",
     "text": [
      "\n",
      " tensor([[[-1.1578, -1.2573,  0.7889, -1.7437],\n",
      "         [-2.5723, -0.7763,  0.4638, -0.8156],\n",
      "         [-0.4233, -0.1946,  0.2935, -0.7129]],\n",
      "\n",
      "        [[ 0.7075,  0.5952,  0.2102,  1.5795],\n",
      "         [ 1.2752, -0.3219, -0.5435,  0.0923],\n",
      "         [-1.8794,  0.4439,  0.9908,  0.2845]]])\n",
      "tensor([[-1.1578, -1.2573,  0.7889, -1.7437, -2.5723, -0.7763,  0.4638, -0.8156,\n",
      "         -0.4233, -0.1946,  0.2935, -0.7129],\n",
      "        [ 0.7075,  0.5952,  0.2102,  1.5795,  1.2752, -0.3219, -0.5435,  0.0923,\n",
      "         -1.8794,  0.4439,  0.9908,  0.2845]])\n",
      "tensor([[-1.1578, -1.2573,  0.7889, -1.7437, -2.5723, -0.7763,  0.4638, -0.8156,\n",
      "         -0.4233, -0.1946,  0.2935, -0.7129],\n",
      "        [ 0.7075,  0.5952,  0.2102,  1.5795,  1.2752, -0.3219, -0.5435,  0.0923,\n",
      "         -1.8794,  0.4439,  0.9908,  0.2845]])\n"
     ]
    }
   ],
   "source": [
    "# We can even reshape 3D tensors\n",
    "# Create a 3D tensor with 2 channels, 3 rows and 4 columns\n",
    "three_dim = torch.randn(2, 3, 4)\n",
    "print('\\n', three_dim)\n",
    "print(three_dim.view(2, 12)) # 2 rows, 12 columns\n",
    "print(three_dim.view(2, -1)) # 2 rows, 12 columns"
   ]
  },
  {
   "cell_type": "code",
   "execution_count": 14,
   "metadata": {},
   "outputs": [
    {
     "name": "stdout",
     "output_type": "stream",
     "text": [
      "tensor([[0.9395, 0.1156, 0.8028, 0.9423],\n",
      "        [0.9518, 0.0941, 0.8946, 0.0896],\n",
      "        [0.4078, 0.1176, 0.9861, 0.2800],\n",
      "        [0.4663, 0.5697, 0.7999, 0.7461]])\n"
     ]
    }
   ],
   "source": [
    "# Create a matrix with random numebrs between 0 and 1\n",
    "r = torch.rand(4, 4)\n",
    "print(r)"
   ]
  },
  {
   "cell_type": "code",
   "execution_count": 15,
   "metadata": {},
   "outputs": [
    {
     "name": "stdout",
     "output_type": "stream",
     "text": [
      "tensor([[ 1.1202, -0.0903, -0.0327,  0.5418],\n",
      "        [ 1.7852,  1.1013, -1.3814,  0.6923],\n",
      "        [-1.0597, -0.8378, -0.2065, -1.3389],\n",
      "        [ 0.5777, -0.8900,  0.0496, -0.6558]])\n",
      "torch.float32\n",
      "tensor(-0.0391) tensor(0.9501)\n"
     ]
    }
   ],
   "source": [
    "# Create a matrix with random numbers from a normal distribution with mean 0 and standard deviation 1\n",
    "r2 = torch.randn(4, 4)\n",
    "print(r2)\n",
    "print(r2.dtype)\n",
    "print(r2.mean(), r2.std())"
   ]
  },
  {
   "cell_type": "code",
   "execution_count": 16,
   "metadata": {},
   "outputs": [
    {
     "name": "stdout",
     "output_type": "stream",
     "text": [
      "tensor([6, 8, 9, 6, 8])\n",
      "torch.int64\n"
     ]
    }
   ],
   "source": [
    "# Create an array of 5 random integers between 6 and 10 (exclusive of 10)\n",
    "in_array = torch.randint(6, 10, (5,))\n",
    "print(in_array)\n",
    "print(in_array.dtype)"
   ]
  },
  {
   "cell_type": "code",
   "execution_count": 17,
   "metadata": {},
   "outputs": [
    {
     "name": "stdout",
     "output_type": "stream",
     "text": [
      "tensor([[9, 6, 8],\n",
      "        [9, 9, 7],\n",
      "        [6, 9, 7]])\n",
      "torch.int64\n"
     ]
    }
   ],
   "source": [
    "in_array2 = torch.randint(6, 10, (3, 3))\n",
    "print(in_array2)\n",
    "print(in_array2.dtype)"
   ]
  },
  {
   "cell_type": "code",
   "execution_count": 18,
   "metadata": {},
   "outputs": [
    {
     "name": "stdout",
     "output_type": "stream",
     "text": [
      "5\n",
      "9\n",
      "9\n"
     ]
    }
   ],
   "source": [
    "# Get the number of elements in the tensor\n",
    "print(in_array.numel())\n",
    "print(in_array2.numel())\n",
    "# or\n",
    "print(torch.numel(in_array2))"
   ]
  },
  {
   "cell_type": "code",
   "execution_count": 19,
   "metadata": {},
   "outputs": [
    {
     "name": "stdout",
     "output_type": "stream",
     "text": [
      "tensor([[0, 0, 0],\n",
      "        [0, 0, 0],\n",
      "        [0, 0, 0]])\n",
      "tensor([[1., 1., 1.],\n",
      "        [1., 1., 1.],\n",
      "        [1., 1., 1.]])\n",
      "torch.float32\n"
     ]
    }
   ],
   "source": [
    "# Construct a tensor of zeros and dtype long\n",
    "z = torch.zeros(3, 3, dtype=torch.long)\n",
    "print(z)\n",
    "# Construct a tensor of ones\n",
    "o = torch.ones(3, 3)\n",
    "print(o)\n",
    "print(o.dtype)"
   ]
  },
  {
   "cell_type": "code",
   "execution_count": 20,
   "metadata": {},
   "outputs": [
    {
     "name": "stdout",
     "output_type": "stream",
     "text": [
      "tensor([[-1.1174, -0.1164,  0.2848,  1.3215],\n",
      "        [-1.2028, -0.3561,  0.1400, -0.2151],\n",
      "        [ 0.1171,  0.0674,  0.7190, -1.1660],\n",
      "        [ 0.6891, -1.7614,  0.3992, -0.8868]], dtype=torch.float64)\n"
     ]
    }
   ],
   "source": [
    "# Construct a tensor of ones with the same shape as the tensor r2\n",
    "r2_like = torch.randn_like(r2, dtype=torch.double)\n",
    "print(r2_like)"
   ]
  },
  {
   "cell_type": "code",
   "execution_count": 21,
   "metadata": {},
   "outputs": [],
   "source": [
    "# Add two tensors. Make sure they have the same shape and type\n",
    "add_result = torch.add(r2, r2_like)"
   ]
  },
  {
   "cell_type": "code",
   "execution_count": 22,
   "metadata": {},
   "outputs": [
    {
     "name": "stdout",
     "output_type": "stream",
     "text": [
      "tensor([[ 0.0028, -0.2067,  0.2522,  1.8632],\n",
      "        [ 0.5824,  0.7452, -1.2414,  0.4772],\n",
      "        [-0.9426, -0.7704,  0.5125, -2.5049],\n",
      "        [ 1.2667, -2.6514,  0.4488, -1.5426]])\n"
     ]
    }
   ],
   "source": [
    "# In-place addition\n",
    "# For in-place operations, add an underscore to the end of the function name\n",
    "r2.add_(r2_like)\n",
    "print(r2)"
   ]
  },
  {
   "cell_type": "code",
   "execution_count": 23,
   "metadata": {},
   "outputs": [
    {
     "name": "stdout",
     "output_type": "stream",
     "text": [
      "tensor([-0.2067,  0.7452, -0.7704, -2.6514])\n",
      "tensor([[ 0.0028, -0.2067],\n",
      "        [ 0.5824,  0.7452],\n",
      "        [-0.9426, -0.7704],\n",
      "        [ 1.2667, -2.6514]])\n",
      "tensor([[ 0.0028, -0.2067,  0.2522,  1.8632],\n",
      "        [ 0.5824,  0.7452, -1.2414,  0.4772],\n",
      "        [-0.9426, -0.7704,  0.5125, -2.5049]])\n",
      "tensor(-2.5049)\n",
      "-2.5049209594726562\n"
     ]
    }
   ],
   "source": [
    "# Slice tensors\n",
    "print(r2[:, 1]) # all rows, column 1\n",
    "print(r2[:, :2]) # all rows, columns 0 and 1\n",
    "print(r2[:3, :]) # rows 0, 1 and 2, all columns\n",
    "num = r2[2, 3] # index 2, 3\n",
    "print(num)\n",
    "print(num.item())"
   ]
  },
  {
   "cell_type": "markdown",
   "metadata": {},
   "source": [
    "### Numpy Bridge"
   ]
  },
  {
   "cell_type": "code",
   "execution_count": 24,
   "metadata": {},
   "outputs": [],
   "source": [
    "import numpy as np"
   ]
  },
  {
   "cell_type": "code",
   "execution_count": 25,
   "metadata": {},
   "outputs": [
    {
     "name": "stdout",
     "output_type": "stream",
     "text": [
      "tensor([1., 1., 1., 1., 1.])\n",
      "[1. 1. 1. 1. 1.]\n",
      "tensor([2., 2., 2., 2., 2.]) [2. 2. 2. 2. 2.]\n"
     ]
    }
   ],
   "source": [
    "# Convert a Torch tensor to a NumPy array\n",
    "a = torch.ones(5)\n",
    "print(a)\n",
    "b = a.numpy()\n",
    "print(b)\n",
    "# See how the numpy array changed in value\n",
    "a.add_(1)\n",
    "print(a, b) # Both a and b changed"
   ]
  },
  {
   "cell_type": "code",
   "execution_count": 26,
   "metadata": {},
   "outputs": [
    {
     "name": "stdout",
     "output_type": "stream",
     "text": [
      "[2. 2. 2. 2. 2.] tensor([2., 2., 2., 2., 2.], dtype=torch.float64)\n"
     ]
    }
   ],
   "source": [
    "# Convert a NumPy array to a Torch tensor\n",
    "# See how changing the np array changed the Torch tensor automatically\n",
    "a = np.ones(5)\n",
    "b = torch.from_numpy(a)\n",
    "a += 1 # np.add(a, 1, out=a)\n",
    "print(a, b)"
   ]
  },
  {
   "cell_type": "code",
   "execution_count": 27,
   "metadata": {},
   "outputs": [],
   "source": [
    "# Move tensor to GPU\n",
    "r2 = r2.to('cuda') # or r2.cuda()"
   ]
  },
  {
   "cell_type": "code",
   "execution_count": 28,
   "metadata": {},
   "outputs": [],
   "source": [
    "# Preferred\n",
    "device = torch.device('cuda') if torch.cuda.is_available() else torch.device('cpu')\n",
    "r2 = r2.to(device)\n"
   ]
  },
  {
   "cell_type": "code",
   "execution_count": 29,
   "metadata": {},
   "outputs": [
    {
     "name": "stdout",
     "output_type": "stream",
     "text": [
      "tensor([1, 2, 3, 4, 5]) torch.int64\n"
     ]
    }
   ],
   "source": [
    "# Convert list to tensor\n",
    "a = [1, 2, 3, 4, 5]\n",
    "to_tensor = torch.tensor(a)\n",
    "print(to_tensor, to_tensor.dtype)"
   ]
  },
  {
   "cell_type": "markdown",
   "metadata": {},
   "source": [
    "### Tensor Concatenation"
   ]
  },
  {
   "cell_type": "code",
   "execution_count": 30,
   "metadata": {},
   "outputs": [
    {
     "name": "stdout",
     "output_type": "stream",
     "text": [
      "tensor([[ 0.0326,  1.4760, -0.5709,  1.0788,  0.5675],\n",
      "        [ 0.2532, -3.0515,  0.0968,  2.6989, -0.2675]])\n",
      "tensor([[ 0.5654,  0.3757, -1.3545, -1.4248,  1.4370],\n",
      "        [-0.1584, -0.1116, -1.0834, -0.5363,  1.3603],\n",
      "        [ 1.2537,  2.5982, -2.6177,  0.3330,  2.3066]])\n",
      "\n",
      " tensor([[ 0.0326,  1.4760, -0.5709,  1.0788,  0.5675],\n",
      "        [ 0.2532, -3.0515,  0.0968,  2.6989, -0.2675],\n",
      "        [ 0.5654,  0.3757, -1.3545, -1.4248,  1.4370],\n",
      "        [-0.1584, -0.1116, -1.0834, -0.5363,  1.3603],\n",
      "        [ 1.2537,  2.5982, -2.6177,  0.3330,  2.3066]]) \n",
      "\n",
      "tensor([[ 2.0047,  0.4988, -0.8801, -0.1944, -0.7267],\n",
      "        [ 0.2589,  0.1650, -1.9592, -0.2649, -0.0933]])\n",
      "tensor([[ 0.9353, -0.8974,  0.4215, -0.1061,  0.2643],\n",
      "        [ 1.2574,  0.8428,  0.3727,  0.0882,  0.0999]])\n",
      "\n",
      " tensor([[ 2.0047,  0.4988, -0.8801, -0.1944, -0.7267,  0.9353, -0.8974,  0.4215,\n",
      "         -0.1061,  0.2643],\n",
      "        [ 0.2589,  0.1650, -1.9592, -0.2649, -0.0933,  1.2574,  0.8428,  0.3727,\n",
      "          0.0882,  0.0999]])\n"
     ]
    }
   ],
   "source": [
    "first_1 = torch.randn(2, 5)\n",
    "second_1 = torch.randn(3, 5)\n",
    "print(first_1)\n",
    "print(second_1)\n",
    "con_1 = torch.cat((first_1, second_1), dim=0) # dim=0 means concatenate along the rows (default)\n",
    "print(\"\\n\", con_1, \"\\n\")\n",
    "first_2 = torch.randn(2, 5)\n",
    "second_2 = torch.randn(2, 5)\n",
    "print(first_2)\n",
    "print(second_2)\n",
    "con_2 = torch.cat((first_2, second_2), dim=1) # dim=1 means concatenate along the columns\n",
    "print(\"\\n\", con_2)\n"
   ]
  },
  {
   "cell_type": "code",
   "execution_count": 31,
   "metadata": {},
   "outputs": [
    {
     "name": "stdout",
     "output_type": "stream",
     "text": [
      "tensor([[1, 2, 3, 4]])\n",
      "torch.Size([1, 4])\n",
      "tensor([[1],\n",
      "        [2],\n",
      "        [3],\n",
      "        [4]])\n",
      "torch.Size([4, 1])\n"
     ]
    }
   ],
   "source": [
    "# Add a dimension to a tensor\n",
    "tensor_1 = torch.tensor([1, 2, 3, 4])\n",
    "\n",
    "tensor_a = torch.unsqueeze(tensor_1, dim=0) # add a dimension at index 0\n",
    "print(tensor_a)\n",
    "print(tensor_a.shape)\n",
    "\n",
    "tensor_a = torch.unsqueeze(tensor_1, dim=1) # add a dimension at index 1\n",
    "print(tensor_a)\n",
    "print(tensor_a.shape)"
   ]
  },
  {
   "cell_type": "code",
   "execution_count": 32,
   "metadata": {},
   "outputs": [
    {
     "name": "stdout",
     "output_type": "stream",
     "text": [
      "tensor([[[0.8213, 0.3052, 0.0924, 0.0035],\n",
      "         [0.7343, 0.8783, 0.7631, 0.2915],\n",
      "         [0.9435, 0.1688, 0.6070, 0.4355]],\n",
      "\n",
      "        [[0.6123, 0.0481, 0.7928, 0.2274],\n",
      "         [0.7874, 0.4462, 0.4780, 0.6148],\n",
      "         [0.2419, 0.2469, 0.1664, 0.7117]]])\n",
      "\n",
      "tensor([[0.0924, 0.7631, 0.6070],\n",
      "        [0.7928, 0.4780, 0.1664]])\n",
      "torch.Size([2, 3])\n",
      "\n",
      "tensor([[[0.0924],\n",
      "         [0.7631],\n",
      "         [0.6070]],\n",
      "\n",
      "        [[0.7928],\n",
      "         [0.4780],\n",
      "         [0.1664]]])\n",
      "torch.Size([2, 3, 1])\n"
     ]
    }
   ],
   "source": [
    "tensor_2 = torch.rand(2, 3, 4)\n",
    "print(tensor_2)\n",
    "print()\n",
    "\n",
    "tensor_c = tensor_2[:, :, 2]\n",
    "print(tensor_c)\n",
    "print(tensor_c.shape)\n",
    "print()\n",
    "\n",
    "tensor_d = torch.unsqueeze(tensor_c, 2)\n",
    "print(tensor_d)\n",
    "print(tensor_d.shape)"
   ]
  },
  {
   "cell_type": "markdown",
   "metadata": {},
   "source": [
    "### Autograd"
   ]
  },
  {
   "cell_type": "code",
   "execution_count": 34,
   "metadata": {},
   "outputs": [
    {
     "name": "stdout",
     "output_type": "stream",
     "text": [
      "tensor([5., 7., 9.], grad_fn=<AddBackward0>)\n",
      "<AddBackward0 object at 0x000001C9584BB970>\n",
      "tensor(21., grad_fn=<SumBackward0>)\n",
      "<SumBackward0 object at 0x000001C9587A72B0>\n"
     ]
    }
   ],
   "source": [
    "# If requires_grad=True, the tensor will track all operations on it\n",
    "x = torch.tensor([1., 2., 3.], requires_grad=True)\n",
    "y = torch.tensor([4., 5., 6.], requires_grad=True)\n",
    "z = x + y\n",
    "print(z)\n",
    "# z knows that it was created as a result of an operation, so it has a grad_fn\n",
    "print(z.grad_fn)\n",
    "s = z.sum()\n",
    "print(s)\n",
    "print(s.grad_fn)"
   ]
  },
  {
   "cell_type": "code",
   "execution_count": 35,
   "metadata": {},
   "outputs": [
    {
     "name": "stdout",
     "output_type": "stream",
     "text": [
      "tensor([1., 1., 1.]) tensor([1., 1., 1.])\n"
     ]
    }
   ],
   "source": [
    "# Backpropagation - compute the gradient of s with respect to the tensors x and y\n",
    "s.backward()\n",
    "print(x.grad, y.grad)"
   ]
  },
  {
   "cell_type": "code",
   "execution_count": 40,
   "metadata": {},
   "outputs": [
    {
     "name": "stdout",
     "output_type": "stream",
     "text": [
      "False False\n",
      "None\n",
      "<AddBackward0 object at 0x000001C900002E30>\n",
      "True\n",
      "None\n",
      "True\n",
      "True\n",
      "False\n"
     ]
    }
   ],
   "source": [
    "# By default, tensors have requires_grad=False, so they do not track history\n",
    "x = torch.tensor([1., 2., 3.])\n",
    "y = torch.tensor([4., 5., 6.])\n",
    "print(x.requires_grad, y.requires_grad)\n",
    "z = x + y\n",
    "# z has no grad_fn because x and y were not created with requires_grad=True\n",
    "print(z.grad_fn)\n",
    "# Another way to set requires_grad is to use the .requires_grad_() method\n",
    "x.requires_grad_()\n",
    "y.requires_grad_()\n",
    "z = x + y\n",
    "print(z.grad_fn)\n",
    "print(z.requires_grad)\n",
    "\n",
    "new_z = z.detach()\n",
    "# z.detach() returns a tensor that shares the same storage as z, but with the computation history forgotten\n",
    "print(new_z.grad_fn)\n",
    "# It doesn't know anything about how it was computed\n",
    "\n",
    "# You can also stop autograd from tracking history on Tensors with .requires_grad=True by wrapping the code block in with torch.no_grad():\n",
    "print(x.requires_grad)\n",
    "print((x ** 2).requires_grad)\n",
    "with torch.no_grad():\n",
    "    print((x ** 2).requires_grad)"
   ]
  }
 ],
 "metadata": {
  "kernelspec": {
   "display_name": "Python 3.10.8 ('pytorch')",
   "language": "python",
   "name": "python3"
  },
  "language_info": {
   "codemirror_mode": {
    "name": "ipython",
    "version": 3
   },
   "file_extension": ".py",
   "mimetype": "text/x-python",
   "name": "python",
   "nbconvert_exporter": "python",
   "pygments_lexer": "ipython3",
   "version": "3.10.8"
  },
  "orig_nbformat": 4,
  "vscode": {
   "interpreter": {
    "hash": "079571a2d98e69c1029e062bab5439d652473f4c8d06888b961d2434b5eb26a4"
   }
  }
 },
 "nbformat": 4,
 "nbformat_minor": 2
}
