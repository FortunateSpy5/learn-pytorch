{
 "cells": [
  {
   "cell_type": "markdown",
   "metadata": {},
   "source": [
    "# Practical ResNet"
   ]
  },
  {
   "cell_type": "markdown",
   "metadata": {},
   "source": [
    "### Imports"
   ]
  },
  {
   "cell_type": "code",
   "execution_count": 1,
   "metadata": {},
   "outputs": [],
   "source": [
    "import torch\n",
    "import torch.nn as nn\n",
    "import torchvision\n",
    "import torchvision.transforms as transforms"
   ]
  },
  {
   "cell_type": "markdown",
   "metadata": {},
   "source": [
    "### Data"
   ]
  },
  {
   "cell_type": "code",
   "execution_count": 2,
   "metadata": {},
   "outputs": [
    {
     "name": "stdout",
     "output_type": "stream",
     "text": [
      "Files already downloaded and verified\n"
     ]
    }
   ],
   "source": [
    "device = torch.device('cuda' if torch.cuda.is_available() else 'cpu')\n",
    "\n",
    "num_epochs = 30\n",
    "batch_size = 100\n",
    "learning_rate = 0.001\n",
    "\n",
    "transform = transforms.Compose([\n",
    "    transforms.Pad(4),\n",
    "    transforms.RandomHorizontalFlip(),\n",
    "    transforms.RandomCrop(32),\n",
    "    transforms.ToTensor()])\n",
    "\n",
    "train_dataset = torchvision.datasets.CIFAR10(root='./data/', train=True, transform=transform, download=True)\n",
    "test_dataset = torchvision.datasets.CIFAR10(root='./data/', train=False, transform=transforms.ToTensor())\n",
    "\n",
    "train_loader = torch.utils.data.DataLoader(dataset=train_dataset, batch_size=batch_size, shuffle=True)\n",
    "test_loader = torch.utils.data.DataLoader(dataset=test_dataset, batch_size=batch_size, shuffle=False)"
   ]
  },
  {
   "cell_type": "markdown",
   "metadata": {},
   "source": [
    "### Model"
   ]
  },
  {
   "cell_type": "code",
   "execution_count": 3,
   "metadata": {},
   "outputs": [],
   "source": [
    "def conv3x3(in_channels, out_channels, stride=1):\n",
    "    return nn.Conv2d(in_channels, out_channels, kernel_size=3, stride=stride, padding=1, bias=False)\n",
    "\n",
    "class ResidualBlock(nn.Module):\n",
    "    def __init__(self, in_channels, out_channels, stride=1, downsample=None):\n",
    "        super().__init__()\n",
    "        self.conv1 = conv3x3(in_channels, out_channels, stride)\n",
    "        self.bn1 = nn.BatchNorm2d(out_channels)\n",
    "        self.relu = nn.ReLU(inplace=True)\n",
    "        self.conv2 = conv3x3(out_channels, out_channels)\n",
    "        self.bn2 = nn.BatchNorm2d(out_channels)\n",
    "        self.downsample = downsample\n",
    "    \n",
    "    def forward(self, x):\n",
    "        identity = x.clone()\n",
    "        out = self.conv1(x)\n",
    "        out = self.bn1(out)\n",
    "        out = self.relu(out)\n",
    "        out = self.conv2(out)\n",
    "        out = self.bn2(out)\n",
    "        if self.downsample:\n",
    "            identity = self.downsample(x)\n",
    "        out += identity\n",
    "        out = self.relu(out)\n",
    "        return out"
   ]
  },
  {
   "cell_type": "code",
   "execution_count": 4,
   "metadata": {},
   "outputs": [],
   "source": [
    "class ResNet(nn.Module):\n",
    "    def __init__(self, block, layers, num_classes=10):\n",
    "        \"\"\"\n",
    "        Args:\n",
    "            block (ResidualBlock): ResidualBlock class\n",
    "            layers (list): [2, 2, 2]\n",
    "            num_classes (int, optional): Defaults to 10.\n",
    "        \"\"\"\n",
    "        super().__init__()\n",
    "        self.in_channels = 16\n",
    "        self.conv = conv3x3(3, 16)\n",
    "        self.bn = nn.BatchNorm2d(16)\n",
    "        self.relu = nn.ReLU(inplace=True)\n",
    "        self.layer1 = self.make_layer(block, 16, layers[0], stride=1)\n",
    "        self.layer2 = self.make_layer(block, 32, layers[1], stride=2)\n",
    "        self.layer3 = self.make_layer(block, 64, layers[2], stride=2)\n",
    "        self.avg_pool = nn.AvgPool2d(8)\n",
    "        self.fc = nn.Linear(64, num_classes)\n",
    "    \n",
    "    def make_layer(self, block, out_channels, blocks, stride):\n",
    "        downsample = None\n",
    "        if self.in_channels != out_channels or stride != 1:\n",
    "            downsample = nn.Sequential(\n",
    "                conv3x3(self.in_channels, out_channels, stride=stride),\n",
    "                nn.BatchNorm2d(out_channels)\n",
    "            )\n",
    "        residual_blocks = []\n",
    "        residual_blocks.append(block(self.in_channels, out_channels, stride, downsample))\n",
    "        self.in_channels = out_channels\n",
    "        for i in range(1, blocks):\n",
    "            residual_blocks.append(block(self.in_channels, out_channels))\n",
    "        return nn.Sequential(*residual_blocks)\n",
    "    \n",
    "    def forward(self, x):\n",
    "        out = self.conv(x)\n",
    "        out = self.bn(out)\n",
    "        out = self.relu(out)\n",
    "        out = self.layer1(out)\n",
    "        out = self.layer2(out)\n",
    "        out = self.layer3(out)\n",
    "        out = self.avg_pool(out)\n",
    "        out = out.view(out.size(0), -1)\n",
    "        out = self.fc(out)\n",
    "        return out"
   ]
  },
  {
   "cell_type": "markdown",
   "metadata": {},
   "source": [
    "### Training"
   ]
  },
  {
   "cell_type": "code",
   "execution_count": 7,
   "metadata": {},
   "outputs": [],
   "source": [
    "model = ResNet(ResidualBlock, [2, 2, 2]).to(device)\n",
    "criterion = nn.CrossEntropyLoss()\n",
    "optimizer = torch.optim.Adam(model.parameters(), lr=learning_rate)"
   ]
  },
  {
   "cell_type": "code",
   "execution_count": 8,
   "metadata": {},
   "outputs": [
    {
     "name": "stdout",
     "output_type": "stream",
     "text": [
      "Epoch 1/30, Train Loss: 1.3963, Train Acc: 48.59, Test Loss: 1.0691, Test Acc: 61.33\n",
      "Epoch 2/30, Train Loss: 0.9910, Train Acc: 64.77, Test Loss: 1.0918, Test Acc: 60.90\n",
      "Epoch 3/30, Train Loss: 0.8317, Train Acc: 70.87, Test Loss: 1.1946, Test Acc: 59.78\n",
      "Epoch 4/30, Train Loss: 0.7294, Train Acc: 74.61, Test Loss: 0.8460, Test Acc: 70.64\n",
      "Epoch 5/30, Train Loss: 0.6616, Train Acc: 76.96, Test Loss: 0.8404, Test Acc: 71.82\n",
      "Epoch 6/30, Train Loss: 0.6136, Train Acc: 78.70, Test Loss: 0.8420, Test Acc: 72.93\n",
      "Epoch 7/30, Train Loss: 0.5787, Train Acc: 79.99, Test Loss: 0.6759, Test Acc: 77.32\n",
      "Epoch 8/30, Train Loss: 0.5438, Train Acc: 81.25, Test Loss: 0.5977, Test Acc: 79.65\n",
      "Epoch 9/30, Train Loss: 0.5097, Train Acc: 82.52, Test Loss: 0.6285, Test Acc: 78.86\n",
      "Epoch 10/30, Train Loss: 0.4946, Train Acc: 83.00, Test Loss: 0.5913, Test Acc: 79.42\n",
      "Epoch 11/30, Train Loss: 0.4706, Train Acc: 83.73, Test Loss: 0.6241, Test Acc: 79.72\n",
      "Epoch 12/30, Train Loss: 0.4505, Train Acc: 84.55, Test Loss: 0.5473, Test Acc: 82.17\n",
      "Epoch 13/30, Train Loss: 0.4345, Train Acc: 84.90, Test Loss: 0.6619, Test Acc: 79.05\n",
      "Epoch 14/30, Train Loss: 0.4149, Train Acc: 85.61, Test Loss: 0.5814, Test Acc: 81.39\n",
      "Epoch 15/30, Train Loss: 0.4038, Train Acc: 86.06, Test Loss: 0.4874, Test Acc: 83.50\n",
      "Epoch 16/30, Train Loss: 0.3867, Train Acc: 86.76, Test Loss: 0.5608, Test Acc: 81.07\n",
      "Epoch 17/30, Train Loss: 0.3750, Train Acc: 87.10, Test Loss: 0.5370, Test Acc: 82.62\n",
      "Epoch 18/30, Train Loss: 0.3683, Train Acc: 87.19, Test Loss: 0.5193, Test Acc: 82.90\n",
      "Epoch 19/30, Train Loss: 0.3557, Train Acc: 87.68, Test Loss: 0.5026, Test Acc: 83.59\n",
      "The learning rate is now 0.0005\n",
      "Epoch 20/30, Train Loss: 0.3048, Train Acc: 89.41, Test Loss: 0.4190, Test Acc: 86.29\n",
      "Epoch 21/30, Train Loss: 0.2918, Train Acc: 90.02, Test Loss: 0.3959, Test Acc: 86.82\n",
      "Epoch 22/30, Train Loss: 0.2851, Train Acc: 89.98, Test Loss: 0.4354, Test Acc: 85.95\n",
      "Epoch 23/30, Train Loss: 0.2767, Train Acc: 90.40, Test Loss: 0.4189, Test Acc: 86.33\n",
      "Epoch 24/30, Train Loss: 0.2719, Train Acc: 90.49, Test Loss: 0.3954, Test Acc: 87.26\n",
      "Epoch 25/30, Train Loss: 0.2663, Train Acc: 90.67, Test Loss: 0.4623, Test Acc: 85.51\n",
      "Epoch 26/30, Train Loss: 0.2620, Train Acc: 90.90, Test Loss: 0.4054, Test Acc: 86.93\n",
      "Epoch 27/30, Train Loss: 0.2549, Train Acc: 91.11, Test Loss: 0.4134, Test Acc: 86.64\n",
      "Epoch 28/30, Train Loss: 0.2503, Train Acc: 91.24, Test Loss: 0.3909, Test Acc: 87.48\n",
      "Epoch 29/30, Train Loss: 0.2458, Train Acc: 91.33, Test Loss: 0.4365, Test Acc: 86.38\n",
      "Epoch 30/30, Train Loss: 0.2417, Train Acc: 91.63, Test Loss: 0.4196, Test Acc: 86.87\n"
     ]
    }
   ],
   "source": [
    "decay = 0\n",
    "for epoch in range(num_epochs):\n",
    "    # Decay learning rate by a factor of 0.5 every 20 epochs\n",
    "    if (epoch + 1) % 20 == 0:\n",
    "        decay += 1\n",
    "        optimizer.param_groups[0]['lr'] = learning_rate * (0.5 ** decay)\n",
    "        print(f\"The learning rate is now {optimizer.param_groups[0]['lr']}\")\n",
    "    # Train\n",
    "    correct = 0\n",
    "    iterations = 0\n",
    "    iter_loss = 0.0\n",
    "    model.train() # Set model to training mode (for dropout and batchnorm)\n",
    "    for i, (images, labels) in enumerate(train_loader):\n",
    "        # Move tensors to the configured device\n",
    "        images = images.to(device)\n",
    "        labels = labels.to(device)\n",
    "        # Forward pass\n",
    "        outputs = model(images)\n",
    "        # Calculate loss\n",
    "        loss = criterion(outputs, labels)\n",
    "        iter_loss += loss.item()\n",
    "        iterations += 1\n",
    "        # Get predictions from the maximum value\n",
    "        _, predicted = torch.max(outputs.data, 1)\n",
    "        correct += (predicted == labels).sum().item()\n",
    "        # Backward and optimize\n",
    "        optimizer.zero_grad()\n",
    "        loss.backward()\n",
    "        optimizer.step()\n",
    "    \n",
    "    train_loss = iter_loss / iterations\n",
    "    train_accuracy = 100 * correct / len(train_dataset)\n",
    "    \n",
    "    # Test\n",
    "    correct = 0\n",
    "    iterations = 0\n",
    "    iter_loss = 0.0\n",
    "    model.eval() # Set model to evaluation mode (for dropout and batchnorm)\n",
    "    for i, (images, labels) in enumerate(test_loader):\n",
    "        # Move tensors to the configured device\n",
    "        images = images.to(device)\n",
    "        labels = labels.to(device)\n",
    "        # Forward pass\n",
    "        outputs = model(images)\n",
    "        # Calculate loss\n",
    "        loss = criterion(outputs, labels)\n",
    "        iter_loss += loss.item()\n",
    "        iterations += 1\n",
    "        # Get predictions from the maximum value\n",
    "        _, predicted = torch.max(outputs.data, 1)\n",
    "        correct += (predicted == labels).sum().item()\n",
    "    \n",
    "    test_loss = iter_loss / iterations\n",
    "    test_accuracy = 100 * correct / len(test_dataset)\n",
    "    \n",
    "    print(f\"Epoch {epoch+1}/{num_epochs}, Train Loss: {train_loss:.4f}, Train Acc: {train_accuracy:.2f}, Test Loss: {test_loss:.4f}, Test Acc: {test_accuracy:.2f}\")"
   ]
  }
 ],
 "metadata": {
  "kernelspec": {
   "display_name": "Python 3.10.8 ('pytorch')",
   "language": "python",
   "name": "python3"
  },
  "language_info": {
   "codemirror_mode": {
    "name": "ipython",
    "version": 3
   },
   "file_extension": ".py",
   "mimetype": "text/x-python",
   "name": "python",
   "nbconvert_exporter": "python",
   "pygments_lexer": "ipython3",
   "version": "3.10.8"
  },
  "orig_nbformat": 4,
  "vscode": {
   "interpreter": {
    "hash": "079571a2d98e69c1029e062bab5439d652473f4c8d06888b961d2434b5eb26a4"
   }
  }
 },
 "nbformat": 4,
 "nbformat_minor": 2
}
