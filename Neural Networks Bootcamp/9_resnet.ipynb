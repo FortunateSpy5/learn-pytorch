{
 "cells": [
  {
   "cell_type": "markdown",
   "metadata": {},
   "source": [
    "# Practical ResNet"
   ]
  },
  {
   "cell_type": "markdown",
   "metadata": {},
   "source": [
    "### Imports"
   ]
  },
  {
   "cell_type": "code",
   "execution_count": 1,
   "metadata": {},
   "outputs": [],
   "source": [
    "import torch\n",
    "import torch.nn as nn\n",
    "import torchvision\n",
    "import torchvision.transforms as transforms"
   ]
  },
  {
   "cell_type": "markdown",
   "metadata": {},
   "source": [
    "### Data"
   ]
  },
  {
   "cell_type": "code",
   "execution_count": 2,
   "metadata": {},
   "outputs": [
    {
     "name": "stdout",
     "output_type": "stream",
     "text": [
      "Files already downloaded and verified\n"
     ]
    }
   ],
   "source": [
    "device = torch.device('cuda' if torch.cuda.is_available() else 'cpu')\n",
    "\n",
    "num_epochs = 30\n",
    "batch_size = 100\n",
    "learning_rate = 0.001\n",
    "\n",
    "transform = transforms.Compose([\n",
    "    transforms.Pad(4),\n",
    "    transforms.RandomHorizontalFlip(),\n",
    "    transforms.RandomCrop(32),\n",
    "    transforms.ToTensor()])\n",
    "\n",
    "train_dataset = torchvision.datasets.CIFAR10(root='./data/', train=True, transform=transform, download=True)\n",
    "test_dataset = torchvision.datasets.CIFAR10(root='./data/', train=False, transform=transforms.ToTensor())\n",
    "\n",
    "train_loader = torch.utils.data.DataLoader(dataset=train_dataset, batch_size=batch_size, shuffle=True)\n",
    "test_loader = torch.utils.data.DataLoader(dataset=test_dataset, batch_size=batch_size, shuffle=False)"
   ]
  },
  {
   "cell_type": "markdown",
   "metadata": {},
   "source": [
    "### Model"
   ]
  },
  {
   "cell_type": "code",
   "execution_count": 3,
   "metadata": {},
   "outputs": [],
   "source": [
    "def conv3x3(in_channels, out_channels, stride=1):\n",
    "    return nn.Conv2d(in_channels, out_channels, kernel_size=3, stride=stride, padding=1, bias=False)\n",
    "\n",
    "class ResidualBlock(nn.Module):\n",
    "    def __init__(self, in_channels, out_channels, stride=1, downsample=None):\n",
    "        super().__init__()\n",
    "        self.conv1 = conv3x3(in_channels, out_channels, stride)\n",
    "        self.bn1 = nn.BatchNorm2d(out_channels)\n",
    "        self.relu = nn.ReLU(inplace=True)\n",
    "        self.conv2 = conv3x3(out_channels, out_channels)\n",
    "        self.bn2 = nn.BatchNorm2d(out_channels)\n",
    "        self.downsample = downsample\n",
    "    \n",
    "    def forward(self, x):\n",
    "        identity = x.clone()\n",
    "        out = self.conv1(x)\n",
    "        out = self.bn1(out)\n",
    "        out = self.relu(out)\n",
    "        out = self.conv2(out)\n",
    "        out = self.bn2(out)\n",
    "        if self.downsample:\n",
    "            identity = self.downsample(x)\n",
    "        out += identity\n",
    "        out = self.relu(out)\n",
    "        return out"
   ]
  },
  {
   "cell_type": "code",
   "execution_count": 4,
   "metadata": {},
   "outputs": [],
   "source": [
    "class ResNet(nn.Module):\n",
    "    def __init__(self, block, layers, num_classes=10):\n",
    "        \"\"\"\n",
    "        Args:\n",
    "            block (ResidualBlock): ResidualBlock class\n",
    "            layers (list): [2, 2, 2]\n",
    "            num_classes (int, optional): Defaults to 10.\n",
    "        \"\"\"\n",
    "        super().__init__()\n",
    "        self.in_channels = 16\n",
    "        self.conv = conv3x3(3, 16)\n",
    "        self.bn = nn.BatchNorm2d(16)\n",
    "        self.relu = nn.ReLU(inplace=True)\n",
    "        self.layer1 = self.make_layer(block, 16, layers[0], stride=1)\n",
    "        self.layer2 = self.make_layer(block, 32, layers[1], stride=2)\n",
    "        self.layer3 = self.make_layer(block, 64, layers[2], stride=2)\n",
    "        self.avg_pool = nn.AvgPool2d(8)\n",
    "        self.fc = nn.Linear(64, num_classes)\n",
    "    \n",
    "    def make_layer(self, block, out_channels, blocks, stride):\n",
    "        downsample = None\n",
    "        if self.in_channels != out_channels or stride != 1:\n",
    "            downsample = nn.Sequential(\n",
    "                conv3x3(self.in_channels, out_channels, stride=stride),\n",
    "                nn.BatchNorm2d(out_channels)\n",
    "            )\n",
    "        residual_blocks = []\n",
    "        residual_blocks.append(block(self.in_channels, out_channels, stride, downsample))\n",
    "        self.in_channels = out_channels\n",
    "        for i in range(1, blocks):\n",
    "            residual_blocks.append(block(self.in_channels, out_channels))\n",
    "        return nn.Sequential(*residual_blocks)\n",
    "    \n",
    "    def forward(self, x):\n",
    "        out = self.conv(x)\n",
    "        out = self.bn(out)\n",
    "        out = self.relu(out)\n",
    "        out = self.layer1(out)\n",
    "        out = self.layer2(out)\n",
    "        out = self.layer3(out)\n",
    "        out = self.avg_pool(out)\n",
    "        out = out.view(out.size(0), -1)\n",
    "        out = self.fc(out)\n",
    "        return out"
   ]
  },
  {
   "cell_type": "markdown",
   "metadata": {},
   "source": [
    "### Training"
   ]
  },
  {
   "cell_type": "code",
   "execution_count": 5,
   "metadata": {},
   "outputs": [],
   "source": [
    "model = ResNet(ResidualBlock, [2, 2, 2]).to(device)\n",
    "criterion = nn.CrossEntropyLoss()\n",
    "optimizer = torch.optim.Adam(model.parameters(), lr=learning_rate)\n",
    "scheduler = torch.optim.lr_scheduler.StepLR(optimizer, step_size=20, gamma=0.5)"
   ]
  },
  {
   "cell_type": "code",
   "execution_count": 8,
   "metadata": {},
   "outputs": [
    {
     "data": {
      "application/vnd.jupyter.widget-view+json": {
       "model_id": "92af23080c0c40e7b966a576bf01fda0",
       "version_major": 2,
       "version_minor": 0
      },
      "text/plain": [
       "  0%|          | 0/30 [00:00<?, ?epochs/s]"
      ]
     },
     "metadata": {},
     "output_type": "display_data"
    },
    {
     "data": {
      "application/vnd.jupyter.widget-view+json": {
       "model_id": "2a4487fcae3649858f61fcb8c27c5e1a",
       "version_major": 2,
       "version_minor": 0
      },
      "text/plain": [
       "Epoch 01/30:   0%|          | 0/600 [00:00<?, ?batches/s]"
      ]
     },
     "metadata": {},
     "output_type": "display_data"
    },
    {
     "data": {
      "application/vnd.jupyter.widget-view+json": {
       "model_id": "d128087a16de4c208cfe9487615f2179",
       "version_major": 2,
       "version_minor": 0
      },
      "text/plain": [
       "Epoch 02/30:   0%|          | 0/600 [00:00<?, ?batches/s]"
      ]
     },
     "metadata": {},
     "output_type": "display_data"
    },
    {
     "data": {
      "application/vnd.jupyter.widget-view+json": {
       "model_id": "2fa4dba798304e638cfeb7f30773cba6",
       "version_major": 2,
       "version_minor": 0
      },
      "text/plain": [
       "Epoch 03/30:   0%|          | 0/600 [00:00<?, ?batches/s]"
      ]
     },
     "metadata": {},
     "output_type": "display_data"
    },
    {
     "data": {
      "application/vnd.jupyter.widget-view+json": {
       "model_id": "bfd4cd9ce04944cd97344a13142d5ef2",
       "version_major": 2,
       "version_minor": 0
      },
      "text/plain": [
       "Epoch 04/30:   0%|          | 0/600 [00:00<?, ?batches/s]"
      ]
     },
     "metadata": {},
     "output_type": "display_data"
    },
    {
     "data": {
      "application/vnd.jupyter.widget-view+json": {
       "model_id": "4cf6d4e2f2b2473f89c1047fc8fec400",
       "version_major": 2,
       "version_minor": 0
      },
      "text/plain": [
       "Epoch 05/30:   0%|          | 0/600 [00:00<?, ?batches/s]"
      ]
     },
     "metadata": {},
     "output_type": "display_data"
    },
    {
     "data": {
      "application/vnd.jupyter.widget-view+json": {
       "model_id": "e236df356f644350959968a755d8b435",
       "version_major": 2,
       "version_minor": 0
      },
      "text/plain": [
       "Epoch 06/30:   0%|          | 0/600 [00:00<?, ?batches/s]"
      ]
     },
     "metadata": {},
     "output_type": "display_data"
    },
    {
     "data": {
      "application/vnd.jupyter.widget-view+json": {
       "model_id": "4e18faf69a974d4b95447037e7bcde2e",
       "version_major": 2,
       "version_minor": 0
      },
      "text/plain": [
       "Epoch 07/30:   0%|          | 0/600 [00:00<?, ?batches/s]"
      ]
     },
     "metadata": {},
     "output_type": "display_data"
    },
    {
     "data": {
      "application/vnd.jupyter.widget-view+json": {
       "model_id": "43053744a7074673a2b6a4ce0f2fe0f5",
       "version_major": 2,
       "version_minor": 0
      },
      "text/plain": [
       "Epoch 08/30:   0%|          | 0/600 [00:00<?, ?batches/s]"
      ]
     },
     "metadata": {},
     "output_type": "display_data"
    },
    {
     "data": {
      "application/vnd.jupyter.widget-view+json": {
       "model_id": "02f77ec23bfe4983b5c884a95784a281",
       "version_major": 2,
       "version_minor": 0
      },
      "text/plain": [
       "Epoch 09/30:   0%|          | 0/600 [00:00<?, ?batches/s]"
      ]
     },
     "metadata": {},
     "output_type": "display_data"
    },
    {
     "data": {
      "application/vnd.jupyter.widget-view+json": {
       "model_id": "45a5ac929a814f68b129061a050c2266",
       "version_major": 2,
       "version_minor": 0
      },
      "text/plain": [
       "Epoch 10/30:   0%|          | 0/600 [00:00<?, ?batches/s]"
      ]
     },
     "metadata": {},
     "output_type": "display_data"
    },
    {
     "data": {
      "application/vnd.jupyter.widget-view+json": {
       "model_id": "18f9bc3a48984deb978bd4b8e512990a",
       "version_major": 2,
       "version_minor": 0
      },
      "text/plain": [
       "Epoch 11/30:   0%|          | 0/600 [00:00<?, ?batches/s]"
      ]
     },
     "metadata": {},
     "output_type": "display_data"
    },
    {
     "data": {
      "application/vnd.jupyter.widget-view+json": {
       "model_id": "d2e92dc516474d55873bbaf0cc45c38d",
       "version_major": 2,
       "version_minor": 0
      },
      "text/plain": [
       "Epoch 12/30:   0%|          | 0/600 [00:00<?, ?batches/s]"
      ]
     },
     "metadata": {},
     "output_type": "display_data"
    },
    {
     "data": {
      "application/vnd.jupyter.widget-view+json": {
       "model_id": "a7fbba7048484c7bad5c832db53df5b3",
       "version_major": 2,
       "version_minor": 0
      },
      "text/plain": [
       "Epoch 13/30:   0%|          | 0/600 [00:00<?, ?batches/s]"
      ]
     },
     "metadata": {},
     "output_type": "display_data"
    },
    {
     "data": {
      "application/vnd.jupyter.widget-view+json": {
       "model_id": "d1dcba009caf4b2ebd82ed12415ab9f1",
       "version_major": 2,
       "version_minor": 0
      },
      "text/plain": [
       "Epoch 14/30:   0%|          | 0/600 [00:00<?, ?batches/s]"
      ]
     },
     "metadata": {},
     "output_type": "display_data"
    },
    {
     "data": {
      "application/vnd.jupyter.widget-view+json": {
       "model_id": "2a306e7df82d41328760023bb9744415",
       "version_major": 2,
       "version_minor": 0
      },
      "text/plain": [
       "Epoch 15/30:   0%|          | 0/600 [00:00<?, ?batches/s]"
      ]
     },
     "metadata": {},
     "output_type": "display_data"
    },
    {
     "data": {
      "application/vnd.jupyter.widget-view+json": {
       "model_id": "3e5915471e04485194e8151bc616b8bd",
       "version_major": 2,
       "version_minor": 0
      },
      "text/plain": [
       "Epoch 16/30:   0%|          | 0/600 [00:00<?, ?batches/s]"
      ]
     },
     "metadata": {},
     "output_type": "display_data"
    },
    {
     "data": {
      "application/vnd.jupyter.widget-view+json": {
       "model_id": "a5d2bf82d4ee42f8b7af43e84cf7f3e9",
       "version_major": 2,
       "version_minor": 0
      },
      "text/plain": [
       "Epoch 17/30:   0%|          | 0/600 [00:00<?, ?batches/s]"
      ]
     },
     "metadata": {},
     "output_type": "display_data"
    },
    {
     "data": {
      "application/vnd.jupyter.widget-view+json": {
       "model_id": "83aaddf1fe9b48d8af4b973c5f301465",
       "version_major": 2,
       "version_minor": 0
      },
      "text/plain": [
       "Epoch 18/30:   0%|          | 0/600 [00:00<?, ?batches/s]"
      ]
     },
     "metadata": {},
     "output_type": "display_data"
    },
    {
     "data": {
      "application/vnd.jupyter.widget-view+json": {
       "model_id": "55a7b6ce8ea94282806189d6f2bf8228",
       "version_major": 2,
       "version_minor": 0
      },
      "text/plain": [
       "Epoch 19/30:   0%|          | 0/600 [00:00<?, ?batches/s]"
      ]
     },
     "metadata": {},
     "output_type": "display_data"
    },
    {
     "data": {
      "application/vnd.jupyter.widget-view+json": {
       "model_id": "c23d28b08b434c358f96f45c6b82bd47",
       "version_major": 2,
       "version_minor": 0
      },
      "text/plain": [
       "Epoch 20/30:   0%|          | 0/600 [00:00<?, ?batches/s]"
      ]
     },
     "metadata": {},
     "output_type": "display_data"
    },
    {
     "data": {
      "application/vnd.jupyter.widget-view+json": {
       "model_id": "aca43e91bd9b4222b81fa2ef5a6f8790",
       "version_major": 2,
       "version_minor": 0
      },
      "text/plain": [
       "Epoch 21/30:   0%|          | 0/600 [00:00<?, ?batches/s]"
      ]
     },
     "metadata": {},
     "output_type": "display_data"
    },
    {
     "data": {
      "application/vnd.jupyter.widget-view+json": {
       "model_id": "a1547362b11b41da835ad0eab9b2c24a",
       "version_major": 2,
       "version_minor": 0
      },
      "text/plain": [
       "Epoch 22/30:   0%|          | 0/600 [00:00<?, ?batches/s]"
      ]
     },
     "metadata": {},
     "output_type": "display_data"
    },
    {
     "data": {
      "application/vnd.jupyter.widget-view+json": {
       "model_id": "75cb4855ef4c44d48d56b062703477a9",
       "version_major": 2,
       "version_minor": 0
      },
      "text/plain": [
       "Epoch 23/30:   0%|          | 0/600 [00:00<?, ?batches/s]"
      ]
     },
     "metadata": {},
     "output_type": "display_data"
    },
    {
     "data": {
      "application/vnd.jupyter.widget-view+json": {
       "model_id": "596fe38d5f1040a9a0d79c8854d7d56f",
       "version_major": 2,
       "version_minor": 0
      },
      "text/plain": [
       "Epoch 24/30:   0%|          | 0/600 [00:00<?, ?batches/s]"
      ]
     },
     "metadata": {},
     "output_type": "display_data"
    },
    {
     "data": {
      "application/vnd.jupyter.widget-view+json": {
       "model_id": "a6318c6f40364a568463ff028d900e56",
       "version_major": 2,
       "version_minor": 0
      },
      "text/plain": [
       "Epoch 25/30:   0%|          | 0/600 [00:00<?, ?batches/s]"
      ]
     },
     "metadata": {},
     "output_type": "display_data"
    },
    {
     "data": {
      "application/vnd.jupyter.widget-view+json": {
       "model_id": "349f1d1022374917a3614296a5fae282",
       "version_major": 2,
       "version_minor": 0
      },
      "text/plain": [
       "Epoch 26/30:   0%|          | 0/600 [00:00<?, ?batches/s]"
      ]
     },
     "metadata": {},
     "output_type": "display_data"
    },
    {
     "data": {
      "application/vnd.jupyter.widget-view+json": {
       "model_id": "ded32a9bd6a643c5bcb3cbccb59537bd",
       "version_major": 2,
       "version_minor": 0
      },
      "text/plain": [
       "Epoch 27/30:   0%|          | 0/600 [00:00<?, ?batches/s]"
      ]
     },
     "metadata": {},
     "output_type": "display_data"
    },
    {
     "data": {
      "application/vnd.jupyter.widget-view+json": {
       "model_id": "28544823af1d460ebe497b175a857a3d",
       "version_major": 2,
       "version_minor": 0
      },
      "text/plain": [
       "Epoch 28/30:   0%|          | 0/600 [00:00<?, ?batches/s]"
      ]
     },
     "metadata": {},
     "output_type": "display_data"
    },
    {
     "data": {
      "application/vnd.jupyter.widget-view+json": {
       "model_id": "67631eedc4cf4e65912350c14b780dda",
       "version_major": 2,
       "version_minor": 0
      },
      "text/plain": [
       "Epoch 29/30:   0%|          | 0/600 [00:00<?, ?batches/s]"
      ]
     },
     "metadata": {},
     "output_type": "display_data"
    },
    {
     "data": {
      "application/vnd.jupyter.widget-view+json": {
       "model_id": "a0614a47f3c04df6b0159688e2bf94f3",
       "version_major": 2,
       "version_minor": 0
      },
      "text/plain": [
       "Epoch 30/30:   0%|          | 0/600 [00:00<?, ?batches/s]"
      ]
     },
     "metadata": {},
     "output_type": "display_data"
    },
    {
     "data": {
      "text/plain": [
       "{'train_loss': [1.2452103891372681,\n",
       "  0.9544580736160279,\n",
       "  0.8241738265752793,\n",
       "  0.7311268132925034,\n",
       "  0.6705218131542205,\n",
       "  0.6167511087059975,\n",
       "  0.5809827762246131,\n",
       "  0.5464900395274163,\n",
       "  0.5187937362194062,\n",
       "  0.4951870012879372,\n",
       "  0.476576937019825,\n",
       "  0.4582934612035751,\n",
       "  0.4394907240867615,\n",
       "  0.4256089519262314,\n",
       "  0.41548870053887366,\n",
       "  0.40128834715485573,\n",
       "  0.3884155831336975,\n",
       "  0.38099647769331935,\n",
       "  0.3264204211235046,\n",
       "  0.313190875351429,\n",
       "  0.3021153069883585,\n",
       "  0.2999229906499386,\n",
       "  0.29250863333046434,\n",
       "  0.2865654668807983,\n",
       "  0.27997230322659017,\n",
       "  0.27375676229596135,\n",
       "  0.27069105960428713,\n",
       "  0.26667308785021304,\n",
       "  0.261927552729845,\n",
       "  0.2547426784783602],\n",
       " 'train_accuracy': [0.54972,\n",
       "  0.66248,\n",
       "  0.71056,\n",
       "  0.7459,\n",
       "  0.76624,\n",
       "  0.78592,\n",
       "  0.7988,\n",
       "  0.81142,\n",
       "  0.82042,\n",
       "  0.8303,\n",
       "  0.83478,\n",
       "  0.84026,\n",
       "  0.84806,\n",
       "  0.85284,\n",
       "  0.85774,\n",
       "  0.8613,\n",
       "  0.86556,\n",
       "  0.86674,\n",
       "  0.88624,\n",
       "  0.8916,\n",
       "  0.89484,\n",
       "  0.89434,\n",
       "  0.89728,\n",
       "  0.89876,\n",
       "  0.90238,\n",
       "  0.90314,\n",
       "  0.90528,\n",
       "  0.9059,\n",
       "  0.90844,\n",
       "  0.90962],\n",
       " 'test_loss': [1.218779079914093,\n",
       "  1.0128342932462693,\n",
       "  1.011823874115944,\n",
       "  1.025007197856903,\n",
       "  0.724670784175396,\n",
       "  0.7223941433429718,\n",
       "  0.7816773211956024,\n",
       "  0.5715569949150086,\n",
       "  0.6665866041183471,\n",
       "  0.6469386753439903,\n",
       "  0.5110478779673576,\n",
       "  0.5993097621202469,\n",
       "  0.6337905278801919,\n",
       "  0.5311391004920005,\n",
       "  0.5334523579478264,\n",
       "  0.5759286174178123,\n",
       "  0.5292198902368546,\n",
       "  0.47171908110380173,\n",
       "  0.4477848668396473,\n",
       "  0.4208318184316158,\n",
       "  0.4484882102906704,\n",
       "  0.40525440365076065,\n",
       "  0.4679954391717911,\n",
       "  0.40212062299251555,\n",
       "  0.4967862519621849,\n",
       "  0.4149103982746601,\n",
       "  0.4255017128586769,\n",
       "  0.45029503121972086,\n",
       "  0.4249067559838295,\n",
       "  0.413334356546402],\n",
       " 'test_accuracy': [0.5708,\n",
       "  0.652,\n",
       "  0.6578,\n",
       "  0.6631,\n",
       "  0.7599,\n",
       "  0.7504,\n",
       "  0.7336,\n",
       "  0.8069,\n",
       "  0.7718,\n",
       "  0.7853,\n",
       "  0.8286,\n",
       "  0.8036,\n",
       "  0.7975,\n",
       "  0.8248,\n",
       "  0.8226,\n",
       "  0.8134,\n",
       "  0.8273,\n",
       "  0.8427,\n",
       "  0.8523,\n",
       "  0.8597,\n",
       "  0.853,\n",
       "  0.8676,\n",
       "  0.8487,\n",
       "  0.869,\n",
       "  0.8419,\n",
       "  0.8646,\n",
       "  0.8626,\n",
       "  0.8577,\n",
       "  0.8649,\n",
       "  0.8695]}"
      ]
     },
     "execution_count": 8,
     "metadata": {},
     "output_type": "execute_result"
    }
   ],
   "source": [
    "from pytorch_training import train_model\n",
    "train_model(num_epochs, model, criterion, optimizer, train_loader, test_loader, device, scheduler)"
   ]
  }
 ],
 "metadata": {
  "kernelspec": {
   "display_name": "Python 3.10.8 ('pytorch')",
   "language": "python",
   "name": "python3"
  },
  "language_info": {
   "codemirror_mode": {
    "name": "ipython",
    "version": 3
   },
   "file_extension": ".py",
   "mimetype": "text/x-python",
   "name": "python",
   "nbconvert_exporter": "python",
   "pygments_lexer": "ipython3",
   "version": "3.10.8"
  },
  "orig_nbformat": 4,
  "vscode": {
   "interpreter": {
    "hash": "079571a2d98e69c1029e062bab5439d652473f4c8d06888b961d2434b5eb26a4"
   }
  }
 },
 "nbformat": 4,
 "nbformat_minor": 2
}
