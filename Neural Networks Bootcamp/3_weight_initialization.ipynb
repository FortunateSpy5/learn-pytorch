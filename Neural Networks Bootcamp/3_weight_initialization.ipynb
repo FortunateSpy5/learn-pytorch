{
 "cells": [
  {
   "cell_type": "markdown",
   "metadata": {},
   "source": [
    "# Weight Initialization"
   ]
  },
  {
   "cell_type": "code",
   "execution_count": 1,
   "metadata": {},
   "outputs": [
    {
     "name": "stderr",
     "output_type": "stream",
     "text": [
      "c:\\Users\\msoum\\anaconda3\\envs\\pytorch\\lib\\site-packages\\tqdm\\auto.py:22: TqdmWarning: IProgress not found. Please update jupyter and ipywidgets. See https://ipywidgets.readthedocs.io/en/stable/user_install.html\n",
      "  from .autonotebook import tqdm as notebook_tqdm\n"
     ]
    }
   ],
   "source": [
    "import torch\n",
    "import torch.nn as nn"
   ]
  },
  {
   "cell_type": "code",
   "execution_count": 2,
   "metadata": {},
   "outputs": [],
   "source": [
    "layer = nn.Linear(5, 5)"
   ]
  },
  {
   "cell_type": "code",
   "execution_count": 3,
   "metadata": {},
   "outputs": [
    {
     "data": {
      "text/plain": [
       "tensor([[-0.3234,  0.4328,  0.4079,  0.4000,  0.1625],\n",
       "        [ 0.2432, -0.0117, -0.3947, -0.4365, -0.0971],\n",
       "        [ 0.0035,  0.3927,  0.1220,  0.1230, -0.2305],\n",
       "        [ 0.3974,  0.2450,  0.0654,  0.4270,  0.1636],\n",
       "        [-0.3298,  0.4426, -0.3099, -0.2948,  0.3945]])"
      ]
     },
     "execution_count": 3,
     "metadata": {},
     "output_type": "execute_result"
    }
   ],
   "source": [
    "layer.weight.data # Usually Xavier initialization"
   ]
  },
  {
   "cell_type": "code",
   "execution_count": 4,
   "metadata": {},
   "outputs": [
    {
     "data": {
      "text/plain": [
       "Parameter containing:\n",
       "tensor([[0.6655, 1.9886, 1.4633, 0.9382, 0.1642],\n",
       "        [2.2031, 2.2106, 0.7725, 1.3087, 1.3745],\n",
       "        [0.6798, 2.7702, 2.4321, 0.0656, 1.8431],\n",
       "        [2.7083, 1.7614, 1.5500, 2.2101, 1.3480],\n",
       "        [0.7889, 0.9701, 2.9232, 2.4584, 2.0841]], requires_grad=True)"
      ]
     },
     "execution_count": 4,
     "metadata": {},
     "output_type": "execute_result"
    }
   ],
   "source": [
    "# Uniform initialization\n",
    "nn.init.uniform_(layer.weight, a=0, b=3) # .data can be omitted"
   ]
  },
  {
   "cell_type": "code",
   "execution_count": 5,
   "metadata": {},
   "outputs": [
    {
     "data": {
      "text/plain": [
       "Parameter containing:\n",
       "tensor([[-0.9896, -0.3348,  0.0225,  0.2434, -0.2330],\n",
       "        [ 1.4850, -0.2462, -0.6582,  0.5431, -0.8584],\n",
       "        [ 1.0214,  0.3502,  0.8111,  0.3463,  1.1300],\n",
       "        [ 0.9715, -0.3962,  0.9713,  0.7406, -0.0097],\n",
       "        [-0.0235,  0.1872, -0.4905,  0.5582, -0.2618]], requires_grad=True)"
      ]
     },
     "execution_count": 5,
     "metadata": {},
     "output_type": "execute_result"
    }
   ],
   "source": [
    "# Normal initialization\n",
    "nn.init.normal_(layer.weight, mean=0, std=1)"
   ]
  },
  {
   "cell_type": "code",
   "execution_count": 6,
   "metadata": {},
   "outputs": [
    {
     "data": {
      "text/plain": [
       "Parameter containing:\n",
       "tensor([0.5000, 0.5000, 0.5000, 0.5000, 0.5000], requires_grad=True)"
      ]
     },
     "execution_count": 6,
     "metadata": {},
     "output_type": "execute_result"
    }
   ],
   "source": [
    "# Constant initialization\n",
    "nn.init.constant_(layer.bias, val=0.5) # Can be used for bias"
   ]
  },
  {
   "cell_type": "code",
   "execution_count": 7,
   "metadata": {},
   "outputs": [
    {
     "data": {
      "text/plain": [
       "Parameter containing:\n",
       "tensor([[ 0.1196,  0.2023, -0.0958, -0.7721,  0.2940],\n",
       "        [-0.4039, -0.7646,  0.6115, -0.1018,  0.4988],\n",
       "        [ 0.4709, -0.6105, -0.4641,  0.1008, -0.6438],\n",
       "        [ 0.7040, -0.7591,  0.3124, -0.4054,  0.6014],\n",
       "        [-0.1464, -0.6700,  0.6269, -0.5325, -0.2364]], requires_grad=True)"
      ]
     },
     "execution_count": 7,
     "metadata": {},
     "output_type": "execute_result"
    }
   ],
   "source": [
    "# Xavier initialization\n",
    "nn.init.xavier_uniform_(layer.weight, gain=1) # gain is the multiplicative factor"
   ]
  },
  {
   "cell_type": "code",
   "execution_count": 8,
   "metadata": {},
   "outputs": [
    {
     "data": {
      "text/plain": [
       "Parameter containing:\n",
       "tensor([[-0.2238,  0.0364,  0.1786, -0.1559, -0.7159],\n",
       "        [-0.1859, -0.2145,  0.0938,  0.1755,  0.3503],\n",
       "        [ 0.0616, -0.3474,  0.6791,  0.6956,  0.2839],\n",
       "        [ 1.1012, -0.3483,  0.1877,  0.8971, -0.3752],\n",
       "        [-0.1214, -0.1176, -0.0534,  0.2296, -0.3338]], requires_grad=True)"
      ]
     },
     "execution_count": 8,
     "metadata": {},
     "output_type": "execute_result"
    }
   ],
   "source": [
    "nn.init.xavier_normal_(layer.weight, gain=1)"
   ]
  }
 ],
 "metadata": {
  "kernelspec": {
   "display_name": "Python 3.10.8 ('pytorch')",
   "language": "python",
   "name": "python3"
  },
  "language_info": {
   "codemirror_mode": {
    "name": "ipython",
    "version": 3
   },
   "file_extension": ".py",
   "mimetype": "text/x-python",
   "name": "python",
   "nbconvert_exporter": "python",
   "pygments_lexer": "ipython3",
   "version": "3.10.8"
  },
  "orig_nbformat": 4,
  "vscode": {
   "interpreter": {
    "hash": "079571a2d98e69c1029e062bab5439d652473f4c8d06888b961d2434b5eb26a4"
   }
  }
 },
 "nbformat": 4,
 "nbformat_minor": 2
}
